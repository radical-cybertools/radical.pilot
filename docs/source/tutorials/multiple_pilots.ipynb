{
 "cells": [
  {
   "attachments": {},
   "cell_type": "markdown",
   "metadata": {},
   "source": [
    "# Using Multiple Pilots\n",
    "\n",
    "RADICAL-Pilot supports managing multiple pilots during a single run, while workload (bag of computing tasks) will be distributed among all available pilots. [radical.pilot.TaskManager](../apidoc.rst) dispatches tasks to pilots according to a scheduling algorithm ([radical.pilot.SCHEDULER_ROUND_ROBIN](../apidoc.rst), [radical.pilot.SCHEDULER_BACKFILLING](../apidoc.rst)), which is provided during its initialization, e.g., `TaskManager(session=session, scheduler=SCHEDULER_BACKFILLING)`.\n",
    "\n",
    "<div class=\"alert alert-info\">\n",
    "\n",
    "__Note:__ RADICAL-Pilot enacts a second scheduling step within each launched pilot: once the Agent takes ownership of tasks, which the [radical.pilot.TaskManager](../apidoc.rst) scheduler assigned to it, the Agent Scheduler will place the tasks on the set of resources (CPU cores, GPUs) that the Agent is managing. The Agent Scheduler can be configured via resource configuration files (see the tutorial [RADICAL-Pilot Configuration System](configuration.ipynb))\n",
    "\n",
    "</div>\n",
    "\n",
    "* Round-Robin Scheduler, RR (`SCHEDULER_ROUND_ROBIN`, __default__) fairly distributes arriving tasks over the set of known pilots, independent of task state, expected workload, pilot state or pilot lifetime. As such, RR is a fairly simplistic, but also a very fast scheduler, which does not impose any additional communication round trips between [radical.pilot.TaskManager](../apidoc.rst) and pilot agents.\n",
    "\n",
    "* Backfilling Scheduler, BF (`SCHEDULER_BACKFILLING`) provides a better load balancing, but at the cost of additional communication round trips. It depends on the actual application workload if that load balancing is beneficial or not. It is most beneficial for the large number of pilots and for relatively long-running tasks (e.g., the task runtime is significantly longer than the communication round trip time between [radical.pilot.TaskManager](../apidoc.rst) and pilot agents).\n",
    "\n",
    "   * It is __not recommended__ to use BF for: (i) a single pilot, and/or (ii) many short-running tasks.\n",
    "   * BF will only dispatch tasks to pilot agents once the pilot agent is in the `radical.pilot.PMGR_ACTIVE` state. The tasks will thus get executed even if one of the pilots never reaches that state - the load will be distributed between pilots which become active (`radical.pilot.PMGR_ACTIVE`).\n",
    "   * BF will only dispatch as many tasks to the Agent as they can be executed concurrently. No tasks will be waiting in the Agent Scheduler queue. BF will react on task termination events, and will then backfill (!) the Agent with any remaining tasks. The Agent will remain under-utilized during that communication.\n",
    "\n",
    "## Examples\n",
    "\n",
    "<div class=\"alert alert-info\">\n",
    "\n",
    "__Note:__ In our examples, we will not show a progression bar while waiting for some operation to complete, e.g., while waiting for a pilot to stop. That is because the progression bar offered by RP's reporter does not work within a notebook. You could use it when executing an RP application as a standalone Python script.\n",
    "\n",
    "</div>\n"
   ]
  },
  {
   "cell_type": "code",
   "execution_count": null,
   "metadata": {
    "execution": {
     "iopub.execute_input": "2023-05-18T01:25:11.495917Z",
     "iopub.status.busy": "2023-05-18T01:25:11.495347Z",
     "iopub.status.idle": "2023-05-18T01:25:11.506198Z",
     "shell.execute_reply": "2023-05-18T01:25:11.505337Z"
    }
   },
   "outputs": [],
   "source": [
    "%env RADICAL_REPORT_ANIME=False"
   ]
  },
  {
   "cell_type": "code",
   "execution_count": null,
   "metadata": {
    "execution": {
     "iopub.execute_input": "2023-05-18T01:25:11.538821Z",
     "iopub.status.busy": "2023-05-18T01:25:11.538527Z",
     "iopub.status.idle": "2023-05-18T01:25:11.670592Z",
     "shell.execute_reply": "2023-05-18T01:25:11.669714Z"
    }
   },
   "outputs": [],
   "source": [
    "import radical.pilot as rp\n",
    "import radical.utils as ru"
   ]
  },
  {
   "cell_type": "code",
   "execution_count": null,
   "metadata": {
    "execution": {
     "iopub.execute_input": "2023-05-18T01:25:11.673287Z",
     "iopub.status.busy": "2023-05-18T01:25:11.673076Z",
     "iopub.status.idle": "2023-05-18T01:25:24.276234Z",
     "shell.execute_reply": "2023-05-18T01:25:24.274935Z"
    }
   },
   "outputs": [],
   "source": [
    "session = rp.Session()\n",
    "pmgr    = rp.PilotManager(session=session)\n",
    "tmgr    = rp.TaskManager(session=session)  # -> rp.TaskManager(session=session, scheduler=rp.SCHEDULER_ROUND_ROBIN)"
   ]
  },
  {
   "attachments": {},
   "cell_type": "markdown",
   "metadata": {},
   "source": [
    "We run multiple pilots using a description for a \"local\" platform (`local.localhost`), which is provided by the built-in configuration file `resource_local.json` and mimics a configuration for CPU cores and GPUs.\n",
    "\n",
    "<div class=\"alert alert-info\">\n",
    "\n",
    "__Note:__ The amount of resources is arbitrary, and it does not reflect the number of physical resources available.\n",
    "\n",
    "</div>\n",
    "\n",
    "<div class=\"alert alert-info\">\n",
    "\n",
    "__Note:__ Before running multiple pilots on a single HPC platform, ensure that its scheduling policy conforms the use case, since each pilot represents a batch job and HPC's scheduling policy might limit the number of jobs running simultaneously per user. For the remote submission see the tutorial [Using RADICAL-Pilot on HPC Platforms](submission.ipynb).\n",
    "\n",
    "</div>"
   ]
  },
  {
   "cell_type": "code",
   "execution_count": null,
   "metadata": {
    "execution": {
     "iopub.execute_input": "2023-05-18T01:25:24.280475Z",
     "iopub.status.busy": "2023-05-18T01:25:24.280140Z",
     "iopub.status.idle": "2023-05-18T01:25:24.656975Z",
     "shell.execute_reply": "2023-05-18T01:25:24.655859Z"
    }
   },
   "outputs": [],
   "source": [
    "pd0 = rp.PilotDescription({\n",
    "    'resource': 'local.localhost',\n",
    "    'cores'   : 4,\n",
    "    'runtime' : 10\n",
    "})\n",
    "pd1 = rp.PilotDescription({\n",
    "    'resource': 'local.localhost',\n",
    "    'cores'   : 2,\n",
    "    'runtime' : 5\n",
    "})\n",
    "\n",
    "pilots = pmgr.submit_pilots([pd0, pd1])"
   ]
  },
  {
   "attachments": {},
   "cell_type": "markdown",
   "metadata": {},
   "source": [
    "After pilots are submitted, they should be added to [`radical.pilot.TaskManager](../apidoc.rst) for the task dispatching."
   ]
  },
  {
   "cell_type": "code",
   "execution_count": null,
   "metadata": {
    "execution": {
     "iopub.execute_input": "2023-05-18T01:25:24.660691Z",
     "iopub.status.busy": "2023-05-18T01:25:24.660311Z",
     "iopub.status.idle": "2023-05-18T01:25:24.670420Z",
     "shell.execute_reply": "2023-05-18T01:25:24.669527Z"
    }
   },
   "outputs": [],
   "source": [
    "tmgr.add_pilots(pilots)\n",
    "tmgr.list_pilots()  # lists all pilots available for TaskManager"
   ]
  },
  {
   "cell_type": "code",
   "execution_count": null,
   "metadata": {
    "execution": {
     "iopub.execute_input": "2023-05-18T01:25:24.673766Z",
     "iopub.status.busy": "2023-05-18T01:25:24.673553Z",
     "iopub.status.idle": "2023-05-18T01:25:47.398693Z",
     "shell.execute_reply": "2023-05-18T01:25:47.397968Z"
    }
   },
   "outputs": [],
   "source": [
    "N_TASKS = 4\n",
    "tds     = []  # list of task descriptions\n",
    "\n",
    "for _ in range(N_TASKS):\n",
    "\n",
    "    td = rp.TaskDescription({\n",
    "        'executable': '/bin/echo',\n",
    "        'arguments' : ['pilot_id=$RP_PILOT_ID']\n",
    "    })\n",
    "\n",
    "    tds.append(td)\n",
    "\n",
    "tasks = tmgr.submit_tasks(tds)\n",
    "tmgr.wait_tasks()"
   ]
  },
  {
   "attachments": {},
   "cell_type": "markdown",
   "metadata": {},
   "source": [
    "Each task was assigned to a corresponding pilot according to a default scheduling algorithm `radical.pilot.SCHEDULER_ROUND_ROBIN`, but it is possible to assign a task to a particular pilot explicitly with the [radical.pilot.TaskDescription.pilot](../apidoc.rst) attribute. Thus, in the example below, we submit another pilot and assign a new task to it."
   ]
  },
  {
   "cell_type": "code",
   "execution_count": null,
   "metadata": {
    "execution": {
     "iopub.execute_input": "2023-05-18T01:25:47.401300Z",
     "iopub.status.busy": "2023-05-18T01:25:47.400973Z",
     "iopub.status.idle": "2023-05-18T01:26:07.538206Z",
     "shell.execute_reply": "2023-05-18T01:26:07.537382Z"
    }
   },
   "outputs": [],
   "source": [
    "pd3 = rp.PilotDescription({\n",
    "    'resource': 'local.localhost',\n",
    "    'cores'   : 2,\n",
    "    'runtime' : 5\n",
    "})\n",
    "\n",
    "pilot = pmgr.submit_pilots(pd3)\n",
    "tmgr.add_pilots(pilot)\n",
    "\n",
    "td = rp.TaskDescription()\n",
    "td.executable = '/bin/echo'\n",
    "td.arguments  = ['task is assigned to $RP_PILOT_ID']\n",
    "td.pilot      = pilot.uid\n",
    "\n",
    "task = tmgr.submit_tasks(td)\n",
    "tmgr.wait_tasks(uids=task.uid)\n",
    "\n",
    "tasks.append(task)"
   ]
  },
  {
   "attachments": {},
   "cell_type": "markdown",
   "metadata": {},
   "source": [
    "If the task is assigned to a pilot, which wasn't added to [radical.pilot.TaskManager](../apidoc.rst), then that pilot is unknown for the task dispatching, and the task is pending for a corresponding pilot to arrive. In the example below, we set a timeout for the [radical.pilot.TaskManager.wait_tasks()](../apidoc.rst) method, since by default, that method waits for tasks reaching their final state, but this task will have the state `radical.pilot.TMGR_SCHEDULING` until the session will be closed (since we will not submit an associated pilot)."
   ]
  },
  {
   "cell_type": "code",
   "execution_count": null,
   "metadata": {
    "execution": {
     "iopub.execute_input": "2023-05-18T01:26:07.540727Z",
     "iopub.status.busy": "2023-05-18T01:26:07.540404Z",
     "iopub.status.idle": "2023-05-18T01:26:22.617759Z",
     "shell.execute_reply": "2023-05-18T01:26:22.616646Z"
    }
   },
   "outputs": [],
   "source": [
    "td = rp.TaskDescription()\n",
    "td.executable = '/bin/echo'\n",
    "td.arguments  = ['pilot_id=$RP_PILOT_ID']\n",
    "td.pilot      = 'unknown_pilot_id'\n",
    "\n",
    "task = tmgr.submit_tasks(td)\n",
    "tmgr.wait_tasks(uids=task.uid, timeout=15)"
   ]
  },
  {
   "attachments": {},
   "cell_type": "markdown",
   "metadata": {},
   "source": [
    "As a final step, we go through all tasks outputs to see which pilot was assigned to each task."
   ]
  },
  {
   "cell_type": "code",
   "execution_count": null,
   "metadata": {
    "execution": {
     "iopub.execute_input": "2023-05-18T01:26:22.621400Z",
     "iopub.status.busy": "2023-05-18T01:26:22.621073Z",
     "iopub.status.idle": "2023-05-18T01:26:22.626634Z",
     "shell.execute_reply": "2023-05-18T01:26:22.625820Z"
    }
   },
   "outputs": [],
   "source": [
    "for task in tasks:\n",
    "    stdout = task.stdout.strip()[:35]\n",
    "    print('%s - output: %-30s (in task description: pilot=\"%s\")' %\n",
    "          (task.uid, stdout, task.description['pilot']))"
   ]
  },
  {
   "cell_type": "code",
   "execution_count": null,
   "metadata": {
    "execution": {
     "iopub.execute_input": "2023-05-18T01:26:22.629129Z",
     "iopub.status.busy": "2023-05-18T01:26:22.628914Z",
     "iopub.status.idle": "2023-05-18T01:26:42.685545Z",
     "shell.execute_reply": "2023-05-18T01:26:42.684537Z"
    }
   },
   "outputs": [],
   "source": [
    "session.close(cleanup=True)"
   ]
  }
 ],
 "metadata": {
  "kernelspec": {
   "display_name": "Python 3 (ipykernel)",
   "language": "python",
   "name": "python3"
  },
  "language_info": {
   "codemirror_mode": {
    "name": "ipython",
    "version": 3
   },
   "file_extension": ".py",
   "mimetype": "text/x-python",
   "name": "python",
   "nbconvert_exporter": "python",
   "pygments_lexer": "ipython3",
   "version": "3.10.6"
  }
 },
 "nbformat": 4,
 "nbformat_minor": 4
}
