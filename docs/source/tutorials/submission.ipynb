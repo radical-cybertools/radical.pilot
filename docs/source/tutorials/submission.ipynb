{
 "cells": [
  {
   "attachments": {},
   "cell_type": "markdown",
   "metadata": {},
   "source": [
    "# Using HPC Platforms\n",
    "\n",
    "RADICAL-Pilot consists of a client and a so-called agent. Client and agent can execute on two different machines, e.g., the former on your workstation, the latter on an HPC platform's compute node. Alternatively, the client can execute on the login node of an HPC platform and the agent on a compute node, or both client and agent can execute on a compute node. \n",
    "\n",
    "How to deploy RADICAL-Pilot depends on the platform's policies that regulate access to the platform (ssh, DUO, hardware token), and the amount and type of resources that can be used on a login node (usually minimal). Further, each HPC platform will require a specific resource configuration file (provided with RADICAL-Pilot) and, in some cases, some user-dependent configuration.\n",
    "\n",
    "RADICAL-Pilot (RP) provides three ways to use [supported HPC platforms](../supported.rst) to execute workloads:\n",
    "\n",
    "- **Remote submission**: users can execute their RP application from their workstation, and then RP accesses the HPC platform via `ssh`.\n",
    "- **Interactive submission**: users can submit an interactive/batch job on the HPC platform, and then RP from a compute node.\n",
    "- **Login submission**: users can `ssh` into the login node of the HPC platform, and then launch their RP application from that shell.\n",
    "\n",
    "## Remote submission\n",
    "\n",
    "<div class=\"alert alert-warning\">\n",
    "\n",
    "__Warning:__ Remote submission **does not work with two factors authentication**. Target HPC platforms need to support passphrase-protected ssh keys as a login method without the use of a second authentication factor. Usually, the user needs to reach an agreement with the system administrators of the platform in order to allow `ssh` connections from a specific IP address. Putting such an agreement in place is from difficult to impossible, and requires a fixed IP.\n",
    "\n",
    "</div>\n",
    "\n",
    "<div class=\"alert alert-warning\">\n",
    "\n",
    "__Warning:__ Remote submissions **require a `ssh` connection to be alive for the entire duration of the application**. If the `ssh` connection fails while the application executes, the application will fail. This has the potential of leaving an orphan RP Agent running on the HPC platform, consuming allocation and failing to properly execute any new application task. Remote submissions should not be attempted on a laptop with a Wi-Fi connection; and the risk of interrupting the `ssh` connection increases with the time taken by the application to complete.\n",
    "\n",
    "</div>\n",
    "\n",
    "If you can manually `ssh` into the target HPC platform, RADICAL-Pilot can do the same. You will have to set up an ssh key and, for example, follow up this [guide](https://www.ssh.com/academy/ssh-keys#how-to-configure-key-based-authentication) if you need to become more familiar.\n",
    "\n",
    "**Note:** RADICAL-Pilot will not work without configuring the `ssh-agent`, and it will require entering the user's ssh key passphrase to access the HPC platform\n",
    "\n",
    "You can also use RADICAL-Pilot's API and store ssh-specific information within your application. Remote usernames, passwords, and keyfiles and can be set in a [radical.pilot.Context](../apidoc.rst#radical.pilot.Context) object. For example, if you want to tell RADICAL-Pilot your user-id on the remote resource, you can use the following:"
   ]
  },
  {
   "cell_type": "code",
   "execution_count": null,
   "metadata": {
    "execution": {
     "iopub.execute_input": "2023-05-18T01:30:51.210313Z",
     "iopub.status.busy": "2023-05-18T01:30:51.210009Z",
     "iopub.status.idle": "2023-05-18T01:30:55.755042Z",
     "shell.execute_reply": "2023-05-18T01:30:55.753941Z"
    }
   },
   "outputs": [],
   "source": [
    "import radical.pilot as rp\n",
    "\n",
    "session = rp.Session()\n",
    "\n",
    "context = rp.Context('ssh')\n",
    "context.user_id = \"user_id\"\n",
    "\n",
    "session.add_context(context)"
   ]
  },
  {
   "attachments": {},
   "cell_type": "markdown",
   "metadata": {},
   "source": [
    "After setting up and configuring `ssh`, you will be able to instruct RP to run its client on your local workstation and its agent on one or more HPC platforms. With the remote submission mode, you:\n",
    "\n",
    "1. Create a pilot description object;\n",
    "2. Specify and the RP resource ID of the supported HP platform;\n",
    "3. Specify the access schema you want to use to access that platform."
   ]
  },
  {
   "cell_type": "code",
   "execution_count": null,
   "metadata": {
    "execution": {
     "iopub.execute_input": "2023-05-18T01:30:55.759075Z",
     "iopub.status.busy": "2023-05-18T01:30:55.758587Z",
     "iopub.status.idle": "2023-05-18T01:30:55.762690Z",
     "shell.execute_reply": "2023-05-18T01:30:55.761860Z"
    },
    "vscode": {
     "languageId": "plaintext"
    }
   },
   "outputs": [],
   "source": [
    "pd_init = {'resource'     : 'tacc.frontera',\n",
    "           'access_schema': 'ssh'\n",
    "          }\n",
    "\n",
    "pdesc = rp.PilotDescription(pd_init)"
   ]
  },
  {
   "attachments": {},
   "cell_type": "markdown",
   "metadata": {},
   "source": [
    "<div class=\"alert alert-info\">\n",
    "\n",
    "__Note:__ For a list of supported HPC platforms, see [List of Supported Platforms](../supported.rst). Resource configuration files can are located at `radical/pilot/configs/` in the [RADICAL-Pilot](https://github.com/radical-cybertools/radical.pilot) git repository.\n",
    "    \n",
    "</div>\n",
    "\n",
    "## Interactive Submission\n",
    "\n",
    "User can perform an interactive submission of an RP application on a supported HPC platform in two ways: \n",
    "\n",
    "- Submitting an **interactive job** to the batch system to acquire a shell and then executing the RP application from that shell.\n",
    "- Submitting a **batch script** to the batch system that, once scheduled, will execute the RP application.\n",
    "\n",
    "<div class=\"alert alert-info\">\n",
    "\n",
    "__Note:__ The command to acquire an interactive job and the script language to write a batch job depends on the batch system deployed on the HPC platform and on its configuration. That means that you may have to use different commands or scripts depending on the HPC platform that you want to use. See the guide for each [supported HPC platform](../supported.rst) for more details.\n",
    "    \n",
    "</div>\n",
    "\n",
    "### Configuring an RP application for interactive submission\n",
    "\n",
    "You will need to set the `access_schema` in your pilot description to `interactive`. All the other parameters of your application remain the same and are independent of how you execute your RP application. For example, assume that your application requires 4096 cores, will terminate in 10 hours, and you want to execute it on TACC Frontera. To run it from an interactive job, you will have to use the following pilot description:"
   ]
  },
  {
   "cell_type": "code",
   "execution_count": null,
   "metadata": {
    "execution": {
     "iopub.execute_input": "2023-05-18T01:30:55.766179Z",
     "iopub.status.busy": "2023-05-18T01:30:55.765766Z",
     "iopub.status.idle": "2023-05-18T01:30:55.770074Z",
     "shell.execute_reply": "2023-05-18T01:30:55.769237Z"
    },
    "vscode": {
     "languageId": "plaintext"
    }
   },
   "outputs": [],
   "source": [
    "pd_init = {'resource'     : 'tacc.frontera',\n",
    "           'access_schema': 'interactive',\n",
    "           'runtime'      : 6000,\n",
    "           'exit_on_error': True,\n",
    "           'project'      : 'myproject',\n",
    "           'queue'        : 'normal',\n",
    "           'cores'        : 4096,\n",
    "           'gpus'         : 0\n",
    "          }\n",
    "\n",
    "pdesc = rp.PilotDescription(pd_init)"
   ]
  },
  {
   "attachments": {},
   "cell_type": "markdown",
   "metadata": {},
   "source": [
    "### Submitting an interactive job\n",
    "\n",
    "To run RP an RP application with that pilot description on an interactive computing mode, you must request the amount and type of resources needed to execute your application. That means that, if your application requires N/M cores/GPUs, you will have to submit an interactive job requiring N nodes so that N provides N/M cores/GPUs. Consult the user guide of the resource you want to use to find out how many cores/GPUs each compute node has. \n",
    "\n",
    "For our example application, you will need to do the following:\n",
    "\n",
    "1. `ssh` into Frontera's login node. To find out Frontera's FQDN check its [user guide](https://frontera-portal.tacc.utexas.edu/)\n",
    "2. Check how many nodes you need on Frontera to get at least 4096 cores. Following the [user guide](https://frontera-portal.tacc.utexas.edu/user-guide/system/), each Cascade Lake (CLX) Compute Nodes of Frontera has 56 cores. Thus, you will need 74 nodes (you may want to consider whether your application could scale to use all the available 4144 cores).\n",
    "3. Find on Frontera's [user guide](https://frontera-portal.tacc.utexas.edu/user-guide/running/#interactive-sessions-with-idev-and-srun) the command and the options required to submit an interactive job.\n",
    "4. Issue the appropriate command, in our case, assuming that your application will take no more than 10 hours to complete: \n",
    "  ```\n",
    "  idev -p normal -N 74 -n 56 -m 600\n",
    "  ```\n",
    "5. Once your job is scheduled and returns a shell, execute your RP application from that shell, e.g. with:\n",
    "\n",
    "  ```\n",
    "  python3 -m venv /ve/my_rp_ve\n",
    "  . ~/ve/my_rp_ve/bin/activate\n",
    "  python3 my_application.py\n",
    "  ```\n",
    "\n",
    "### Submitting a batch job\n",
    "\n",
    "To run RP in a batch job, you must create a batch script that specifies your resource requirements, application execution time, and the RP application that you want to execute. Following the example given above, the following script could be used on TACC Frontera:\n",
    "\n",
    "```shell\n",
    "#SBATCH -J myjob           # Job name\n",
    "#SBATCH -o myjob.o%j       # Name of stdout output file\n",
    "#SBATCH -e myjob.e%j       # Name of stderr error file\n",
    "#SBATCH -p normal          # Queue (partition) name\n",
    "#SBATCH -N 74              # Total # of nodes\n",
    "#SBATCH -n 56              # Total # of mpi tasks\n",
    "#SBATCH -t 10:00:00        # Run time (hh:mm:ss)\n",
    "#SBATCH --mail-type=all    # Send email at begin and end of job\n",
    "#SBATCH -A myproject       # Project/Allocation name (req'd if you have more than 1)\n",
    "\n",
    "python my_application.py\n",
    "```\n",
    "\n",
    "Once saved into a `myjobscript.sbatch`, you could submit your batch job on Frontera with:\n",
    "\n",
    "```shell\n",
    "sbatch myjobscript.sbatch\n",
    "```\n",
    "\n",
    "## Login submission\n",
    "\n",
    "<div class=\"alert alert-warning\">\n",
    "\n",
    "__Warning:__ very likely, login submission will **break the login node usage policies and be killed by system administrators**. Login submissions should be used as a last resort, only when either a remote or interactive submission is not available. \n",
    "    \n",
    "</div>\n",
    "\n",
    "To run your RP application on the login node of a supported HPC platform, you will need to `ssh` into the login node, load the python environment and execute your PR application. For the example application above, you would do the following:\n",
    "\n",
    "```shell\n",
    "ssh username@frontera.tacc.utexas.edu\n",
    "python3 -m venv /ve/my_rp_ve\n",
    ". ~/ve/my_rp_ve/bin/activate\n",
    "python3 my_application.py\n",
    "```\n",
    "\n",
    "**But** you would be breaching the [login node usage policies](https://frontera-portal.tacc.utexas.edu/user-guide/conduct/#do-not-run-jobs-on-the-login-nodes) on Frontera."
   ]
  }
 ],
 "metadata": {
  "kernelspec": {
   "display_name": "Python 3 (ipykernel)",
   "language": "python",
   "name": "python3"
  },
  "language_info": {
   "codemirror_mode": {
    "name": "ipython",
    "version": 3
   },
   "file_extension": ".py",
   "mimetype": "text/x-python",
   "name": "python",
   "nbconvert_exporter": "python",
   "pygments_lexer": "ipython3",
   "version": "3.10.6"
  }
 },
 "nbformat": 4,
 "nbformat_minor": 2
}
