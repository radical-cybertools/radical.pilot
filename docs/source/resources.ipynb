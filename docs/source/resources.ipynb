{
 "cells": [
  {
   "cell_type": "markdown",
   "id": "d1f3d68a",
   "metadata": {},
   "source": [
    "## 7.1. Introduction\n",
    "**RADICAL-Pilot** allows you to launch a pilot allocating a large number of cores on a local and remote HPC cluster. The pilot represent a resource holder which is used to run multiple tasks, each with a defined number of cores. This separates resource allocation and management from resource usage, and avoids HPC cluster queue policies and waiting times which can significantly reduce the total time to completion of your application."
   ]
  },
  {
   "cell_type": "markdown",
   "id": "ea30b252",
   "metadata": {},
   "source": [
    "If you want to use a local resources (your own computer or laptop) you have to define it in the `PilotDescription` object and provide the required arguments below:"
   ]
  },
  {
   "cell_type": "code",
   "execution_count": 1,
   "id": "1550c186",
   "metadata": {},
   "outputs": [],
   "source": [
    "import radical.pilot as rp\n",
    "pdesc = rp.PilotDescription()\n",
    "pdesc.resource = \"local.localhost\"\n",
    "pdesc.runtime  = 60\n",
    "pdesc.cores    = 16"
   ]
  },
  {
   "cell_type": "markdown",
   "id": "dec1f9aa",
   "metadata": {},
   "source": [
    "Using a resource key other than `local.localhost` implicitly tells RADICAL-Pilot that it is targeting a remote resource and that's what we will cover in the next sections."
   ]
  },
  {
   "cell_type": "markdown",
   "id": "2767cfea",
   "metadata": {},
   "source": [
    "## 7.2. Acessing remote resources\n",
    "\n",
    "RADICAL-Pilot is using the `SSH/GSISSH` (and `SFTP`/`GSISFTP`) protocols to communicate with remote resources. The next section, Configuring SSH Access provides some details about SSH set-up. Pre-Configured Resources lists the resource keys that are already defined and ready to be used in RADICAL-Pilot.\n",
    "\n"
   ]
  },
  {
   "cell_type": "markdown",
   "id": "add98370",
   "metadata": {},
   "source": [
    "## 7.3.1 Configuring SSH Access\n",
    "\n",
    "If you can manually `SSH` into the target resource, RADICAL-Pilot can do the same. Note that you have to set-up password-less ssh keys for the resource you want to use. If you are not familiar with how to setup password-less ssh keys, check out this [guide](https://linuxize.com/post/how-to-setup-passwordless-ssh-login/).\n",
    "\n",
    "Alternatively RADICAL-Pilot also supports all SSH-specific information, like remote usernames, passwords, and keyfiles and can be set in [Context](https://radicalpilot.readthedocs.io/en/stable/apidoc.html#radical.pilot.Context) object. For example, if you want to tell RADICAL-Pilot your user-id on the remote resource, use the following construct:"
   ]
  },
  {
   "cell_type": "code",
   "execution_count": null,
   "id": "fe3677d3",
   "metadata": {},
   "outputs": [],
   "source": [
    "session   = rp.Session()\n",
    "context   = rp.Context('ssh')\n",
    "c.user_id = \"user1\"\n",
    "session.add_context(c)"
   ]
  },
  {
   "cell_type": "markdown",
   "id": "803f3027",
   "metadata": {},
   "source": [
    "## 7.3.2 Configuring GSISSH access for XSEDE resources\n",
    "\n",
    "XSEDE resources require using [gsissh](https://software.xsede.org/production/gsi-openssh-server/INSTALL) instead of ssh. Once the gsissh and myproxy are successfully installed, one need to acquire a X509 certificate:"
   ]
  },
  {
   "cell_type": "code",
   "execution_count": null,
   "id": "c83b0bb1",
   "metadata": {},
   "outputs": [],
   "source": [
    "$ export MYPROXY_SERVER_PORT=7512\n",
    "$ export MYPROXY_SERVER=myproxy.xsede.org\n",
    "$ myproxy-logon -s myproxy.xsede.org -l <xsede_username> -t 72\n",
    "$ [Enter MyProxy pass phrase]\n",
    "$ A credential has been received for user xsede_username in /tmp/x509up_u1008.\n",
    "$ gsissh -p 2222 bridges2.psc.xsede.org"
   ]
  },
  {
   "cell_type": "markdown",
   "id": "74969ab8",
   "metadata": {},
   "source": [
    "Example, to configure RADICAL-Pilot to use XSEDE resources (in this case a machine names Bridges2 is usesd), you need to porvide an additional arguments as follows:"
   ]
  },
  {
   "cell_type": "code",
   "execution_count": null,
   "id": "3dc159f2",
   "metadata": {},
   "outputs": [],
   "source": [
    "pdesc = rp.PilotDescription()\n",
    "pdesc.resource = \"xsede.bridges2\"\n",
    "pdsec.schema   = \"gisssh\"\n",
    "pdsec.project  = \"xsede project id\"\n",
    "pdesc.runtime  = 60\n",
    "pdesc.cores    = 128\n",
    "pdesc.gpus     = 8"
   ]
  },
  {
   "cell_type": "markdown",
   "id": "6652aa47",
   "metadata": {},
   "source": [
    "## 7.4 Pre-Configured Resources\n",
    "\n",
    "Resource configurations are a set of key/value dictionaries with details of a remote resource like queuing-, file-system-, and environment-. Once a configuration file is available for a given resource, a user chooses that pre-configured resource in her code like this:"
   ]
  },
  {
   "cell_type": "code",
   "execution_count": 4,
   "id": "2d87cd9d",
   "metadata": {},
   "outputs": [],
   "source": [
    "pdesc = rp.PilotDescription()\n",
    "pdesc.resource = \"epsrc.archer\"\n",
    "pdsec.schema   = \"ssh\"\n",
    "pdesc.project  = \"project id\"\n",
    "pdesc.runtime  = 60\n",
    "pdesc.cores    = 128\n",
    "pdesc.queue    = \"large\""
   ]
  },
  {
   "cell_type": "markdown",
   "id": "a6460e89",
   "metadata": {},
   "source": [
    "The RADICAL-Pilot developer team maintains a growing set of resource configuration files. Several of the settings included there can be overridden in the `PilotDescription` object. For example, the snipped above replaces the default queue standard with the queue large. For a list of supported configurations, see [List of Pre-Configured Resources](https://radicalpilot.readthedocs.io/en/stable/resources.html#chapter-resources) and note that those resource files can be found under `radical/pilot/configs/` in the RADICAL-Pilot git repository."
   ]
  },
  {
   "cell_type": "markdown",
   "id": "2c694d0a",
   "metadata": {},
   "source": [
    "## Writing a Custom Resource Configuration File\n",
    "\n",
    "If you want to use RADICAL-Pilot with a resource that is not in any of the provided resource configuration files, you can write your own, and save it in `$HOME/.radical/pilot/configs/<your_resource_configuration_file_name>.json.`"
   ]
  },
  {
   "cell_type": "markdown",
   "id": "101e6fb0",
   "metadata": {},
   "source": [
    "### Note\n",
    "The remote resource configuration file name must start with “resource_” and end with the `.json` suffix. Within each resource file, multiple resources can be listed. For example, the [resource_xsede.json](https://radicalpilot.readthedocs.io/en/stable/_downloads/6f233ab23e448ee0a3071b6b39b907df/resource_xsede.json) file contains many different HPC resources from XSEDE.\n",
    "\n",
    "### Note\n",
    "Be advised that you may need specific knowledge about the target resource to do so. Also, while RADICAL-Pilot can handle very different types of systems and batch system, it may run into trouble on specific configurations or software versions we did not encounter before. If you run into trouble using a resource not in our list of officially supported ones, please open [an issue](https://github.com/radical-cybertools/radical.pilot/issues)."
   ]
  },
  {
   "cell_type": "markdown",
   "id": "df7d8c0d",
   "metadata": {},
   "source": [
    "A configuration file has to be valid JSON. The structure is as follows:"
   ]
  },
  {
   "cell_type": "code",
   "execution_count": null,
   "id": "9efa07db",
   "metadata": {},
   "outputs": [],
   "source": [
    "# filename: resource_lrz.json\n",
    "{\n",
    "    \"supermuc\":\n",
    "    {\n",
    "        \"description\"                 : \"The SuperMUC petascale HPC cluster at LRZ.\",\n",
    "        \"notes\"                       : \"Access only from registered IP addresses.\",\n",
    "        \"schemas\"                     : [\"gsissh\", \"ssh\"],\n",
    "        \"ssh\"                         :\n",
    "        {\n",
    "            \"job_manager_endpoint\"    : \"loadl+ssh://supermuc.lrz.de/\",\n",
    "            \"filesystem_endpoint\"     : \"sftp://supermuc.lrz.de/\"\n",
    "        },\n",
    "        \"gsissh\"                      :\n",
    "        {\n",
    "            \"job_manager_endpoint\"    : \"loadl+gsissh://supermuc.lrz.de:2222/\",\n",
    "            \"filesystem_endpoint\"     : \"gsisftp://supermuc.lrz.de:2222/\"\n",
    "        },\n",
    "        \"default_queue\"               : \"test\",\n",
    "        \"resource_manager\"            : \"SLURM\",\n",
    "        \"task_launch_method\"          : \"SSH\",\n",
    "        \"mpi_launch_method\"           : \"MPIEXEC\",\n",
    "        \"forward_tunnel_endpoint\"     : \"login03\",\n",
    "        \"virtenv\"                     : \"/home/hpc/pr87be/di29sut/pilotve\",\n",
    "        \"python_dist\"                 : \"default\",\n",
    "        \"pre_bootstrap_0\"             : [\"source /etc/profile\",\n",
    "                                         \"source /etc/profile.d/modules.sh\",\n",
    "                                         \"module unload mpi.ibm\", \"module load mpi.intel\",\n",
    "                                         \"source /home/hpc/pr87be/di29sut/pilotve/bin/activate\"\n",
    "                                        ],\n",
    "        \"valid_roots\"                 : [\"/home\", \"/gpfs/work\", \"/gpfs/scratch\"],\n",
    "        \"agent_scheduler\"             : \"CONTINUOUS\",\n",
    "        \"agent_spawner\"               : \"POPEN\"\n",
    "    },\n",
    "    \"ANOTHER_KEY_NAME\":\n",
    "    {\n",
    "        ...\n",
    "    }\n",
    "}"
   ]
  },
  {
   "cell_type": "markdown",
   "id": "34f7808a",
   "metadata": {},
   "source": [
    "The name of your file (here resource_lrz.json) together with the name of the resource (supermuc) form the resource key which is used in the PilotDescription resource attribute (lrz.supermuc).\n",
    "\n",
    "All fields are **mandatory**, unless indicated otherwise below.\n",
    "\n",
    "* `description`: a human readable description of the resource.\n",
    "* `notes`: information needed to form valid pilot descriptions, such as what parameter are required, etc.\n",
    "* `schemas`: allowed values for the access_schema parameter of the pilot description. The first schema in the list is used by   default. For each schema, a subsection is needed which specifies job_manager_endpoint and filesystem_endpoint.\n",
    "* `job_manager_endpoint`: access url for pilot submission (interpreted by SAGA).\n",
    "* `filesystem_endpoint`: access url for file staging (interpreted by SAGA).\n",
    "* `default_queue`: queue to use for pilot submission (optional).\n",
    "* `resource_manager`: type of job management system. Valid values are: LOADL, LSF, PBSPRO, SGE, SLURM, TORQUE, FORK.\n",
    "* `task_launch_method`: type of compute node access, required for non-MPI tasks. Valid values are: SSH,``APRUN`` or LOCAL.\n",
    "* `mpi_launch_method`: type of MPI support, required for MPI tasks. Valid values are: MPIRUN, MPIEXEC, APRUN, IBRUN, etc.\n",
    "* `python_interpreter`: path to python (optional).\n",
    "* `python_dist`: anaconda or default, i.e., not anaconda (mandatory).\n",
    "* `pre_bootstrap_0`: list of commands to execute for initialization of main agent (optional).\n",
    "* `pre_bootstrap_1`: list of commands to execute for initialization of sub-agent (optional).\n",
    "* `valid_roots`: list of shared file system roots (optional). Note: pilot sandboxes must lie under these roots.\n",
    "forward_tunnel_endpoint: name of the host which can be used to create ssh tunnels from the compute nodes to the outside world (optional).\n",
    "Several configuration files are part of the RADICAL-Pilot installation, and can be found under `radical/pilot/configs/` in the RADICAL-Pilot git repository."
   ]
  }
 ],
 "metadata": {
  "kernelspec": {
   "display_name": "Python 3 (ipykernel)",
   "language": "python",
   "name": "python3"
  },
  "language_info": {
   "codemirror_mode": {
    "name": "ipython",
    "version": 3
   },
   "file_extension": ".py",
   "mimetype": "text/x-python",
   "name": "python",
   "nbconvert_exporter": "python",
   "pygments_lexer": "ipython3",
   "version": "3.8.10"
  }
 },
 "nbformat": 4,
 "nbformat_minor": 5
}
