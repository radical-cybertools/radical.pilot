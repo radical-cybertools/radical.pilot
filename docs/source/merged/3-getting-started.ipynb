{
 "cells": [
  {
   "cell_type": "markdown",
   "id": "67521807",
   "metadata": {},
   "source": [
    "# Getting Started\n",
    "\n",
    "This notebook offers a walkthrough example of how to run RADICAL-Pilot on a local linux machine. The tutorial includes an example of how to execute a simple workload of identical tasks, i.e., a _bag of tasks_.\n",
    "\n",
    "## Activate your environment\n",
    "\n",
    "RADICAL.Pilot required to be executed into a dedicated virtual environment. You can create such an environment with the commands `virtualenv`, `venv` or `conda`. For more details see TODO: add internal reference. Here we activate a virtual environment that we have already created.\n",
    "\n",
    "```shell\n",
    "# replace the virtualenv path with the correct path for your system\n",
    "source ~/.virtualenvs/radical-pilot-env/bin/activate\n",
    "```\n",
    "\n",
    "## Requiered environement variables\n",
    "\n",
    "RADICAL-Pilot requires a MongoDB server and looks for the environment variable `RADICAL_PILOT_DBURL`. If that variable is not set, RADICAL-Pilot will fail and exit. You can set `RADICAL_PILOT_DBURL` in the shell from which you will execute your RADICAL-Pilot application--e.g., `export RADICAL_PILOT_DBURL=` or you can write your variable key/value \n",
    "\n",
    "Loading the environment variables from .env file. To read on how to setup .env for RP see this. `RADICAL_PILOT_DBURL` is required in .env file for RP to work."
   ]
  },
  {
   "cell_type": "code",
   "execution_count": 1,
   "id": "f9f1ff4e",
   "metadata": {},
   "outputs": [
    {
     "name": "stderr",
     "output_type": "stream",
     "text": [
      "Python-dotenv could not parse statement starting at line 1\n",
      "Python-dotenv could not parse statement starting at line 3\n"
     ]
    },
    {
     "name": "stdout",
     "output_type": "stream",
     "text": [
      "/mnt/home/merzky/radical/radical.pilot.test/docs/source/merged\n"
     ]
    }
   ],
   "source": [
    "import os\n",
    "print(os.getcwd())\n",
    "%load_ext dotenv\n",
    "%dotenv ../../../.env"
   ]
  },
  {
   "cell_type": "code",
   "execution_count": 2,
   "id": "af8cb793",
   "metadata": {},
   "outputs": [
    {
     "name": "stdout",
     "output_type": "stream",
     "text": [
      "\u001b[32m1678189283.879 : radical.analytics    : 11292 : 139732690704192 : INFO     : radical.analytics    version: 1.20.0-v1.20.0-1-g7fc8f73@feature-multistyle\u001b[0m\r\n",
      "\r\n",
      "  python               : /mnt/home/merzky/radical/radical.pilot.test/ve3/bin/python3\r\n",
      "  pythonpath           : \r\n",
      "  version              : 3.6.9\r\n",
      "  virtualenv           : /mnt/home/merzky/radical/radical.pilot.test/ve3\r\n",
      "\r\n",
      "  radical.analytics    : 1.20.0-v1.20.0-1-g7fc8f73@feature-multistyle\r\n",
      "  radical.gtod         : 1.20.1\r\n",
      "  radical.pilot        : 1.22.0-v1.21.0-386-g99ecc887d@docs-nb_section3-cleaned\r\n",
      "  radical.saga         : 1.21.0\r\n",
      "  radical.utils        : 1.22.0-v1.21.0-3-gef698e8@devel\r\n",
      "\r\n"
     ]
    }
   ],
   "source": [
    "!radical-stack"
   ]
  },
  {
   "cell_type": "code",
   "execution_count": 3,
   "id": "c8b8387d",
   "metadata": {},
   "outputs": [],
   "source": [
    "import os\n",
    "import sys\n",
    "import pprint\n",
    "\n",
    "import radical.pilot as rp\n",
    "import radical.utils as ru\n"
   ]
  },
  {
   "cell_type": "markdown",
   "id": "226a0cfc",
   "metadata": {},
   "source": [
    "## Configuration Files\n",
    "\n",
    "The examples encoded in this notebook target `localhost` as execution resource, but they can also run on other resources for which we have pre-configured some relevant values.  We load those configuration options here:"
   ]
  },
  {
   "cell_type": "code",
   "execution_count": 4,
   "id": "c7747e0d",
   "metadata": {
    "pycharm": {
     "name": "#%%\n"
    }
   },
   "outputs": [
    {
     "name": "stdout",
     "output_type": "stream",
     "text": [
      "{'anl.arcticus': {'cores': 96,\n",
      "                  'gpus': 2,\n",
      "                  'project': None,\n",
      "                  'queue': 'arcticus',\n",
      "                  'schema': 'local'},\n",
      " 'llnl.lassen': {'cores': 30,\n",
      "                 'gpus': 0,\n",
      "                 'project': 'CV_DDMD',\n",
      "                 'queue': 'pdebug',\n",
      "                 'schema': 'local'},\n",
      " 'local.local': {'cores': 64,\n",
      "                 'project': None,\n",
      "                 'queue': None,\n",
      "                 'schema': None},\n",
      " 'local.localhost': {'cores': 1,\n",
      "                     'gpus': 0,\n",
      "                     'project': None,\n",
      "                     'queue': None,\n",
      "                     'schema': None},\n",
      " 'local.localhost_flux': {'cores': 64,\n",
      "                          'project': None,\n",
      "                          'queue': None,\n",
      "                          'schema': None},\n",
      " 'local.localhost_funcs': {'cores': 16,\n",
      "                           'project': None,\n",
      "                           'queue': None,\n",
      "                           'schema': 'local'},\n",
      " 'local.localhost_prte': {'cores': 64,\n",
      "                          'project': None,\n",
      "                          'queue': None,\n",
      "                          'schema': None},\n",
      " 'local.localhost_test': {'cores': 1,\n",
      "                          'gpus': 0,\n",
      "                          'project': None,\n",
      "                          'queue': None,\n",
      "                          'schema': None},\n",
      " 'ncar.cheyenne': {'cores': 72,\n",
      "                   'project': 'URTG0014',\n",
      "                   'queue': 'regular',\n",
      "                   'schema': 'local'},\n",
      " 'nersc.edison': {'cores': 64,\n",
      "                  'project': None,\n",
      "                  'queue': 'debug',\n",
      "                  'schema': 'ssh'},\n",
      " 'ornl.rhea_aprun': {'cores': 64,\n",
      "                     'project': 'BIP149',\n",
      "                     'queue': 'batch',\n",
      "                     'schema': 'local'},\n",
      " 'ornl.spock': {'cores': 64,\n",
      "                'gpus': 4,\n",
      "                'project': 'csc449',\n",
      "                'queue': 'ecp',\n",
      "                'schema': 'local'},\n",
      " 'ornl.summit': {'cores': 168,\n",
      "                 'gpus': 6,\n",
      "                 'project': 'CSC343',\n",
      "                 'queue': 'batch',\n",
      "                 'schema': 'local'},\n",
      " 'ornl.summit_prte': {'cores': 168,\n",
      "                      'gpus': 6,\n",
      "                      'project': 'geo111',\n",
      "                      'queue': 'batch',\n",
      "                      'schema': 'local'},\n",
      " 'princeton.tiger_cpu': {'cores': 40,\n",
      "                         'project': 'geo',\n",
      "                         'queue': 'cpu',\n",
      "                         'schema': 'ssh'},\n",
      " 'princeton.tiger_gpu': {'cores': 56,\n",
      "                         'project': 'geo',\n",
      "                         'queue': 'gpu',\n",
      "                         'schema': 'local'},\n",
      " 'princeton.traverse': {'cores': 32,\n",
      "                        'gpus': 4,\n",
      "                        'project': 'tromp',\n",
      "                        'queue': 'all',\n",
      "                        'schema': 'local'},\n",
      " 'radical.three': {'cores': 8,\n",
      "                   'project': None,\n",
      "                   'queue': None,\n",
      "                   'schema': 'ssh'},\n",
      " 'rutgers.amarel': {'cores': 8,\n",
      "                    'project': None,\n",
      "                    'queue': None,\n",
      "                    'schema': 'ssh'},\n",
      " 'tacc.frontera': {'cores': 64,\n",
      "                   'project': 'MCB20006',\n",
      "                   'queue': 'development',\n",
      "                   'schema': 'ssh'},\n",
      " 'xsede.bridges2': {'cores': 128,\n",
      "                    'project': None,\n",
      "                    'queue': 'RM',\n",
      "                    'schema': 'gsissh'},\n",
      " 'xsede.longhorn': {'cores': 40,\n",
      "                    'project': 'FTA-Jha',\n",
      "                    'queue': 'development',\n",
      "                    'schema': 'local'},\n",
      " 'xsede.stampede2_ibrun': {'cores': 204,\n",
      "                           'project': 'TG-MCB090174',\n",
      "                           'queue': 'development',\n",
      "                           'schema': 'local'},\n",
      " 'xsede.stampede2_srun': {'cores': 204,\n",
      "                          'project': 'TG-MCB090174',\n",
      "                          'queue': 'development',\n",
      "                          'schema': 'local'},\n",
      " 'xsede.stampede2_ssh': {'cores': 204,\n",
      "                         'project': 'TG-MCB090174',\n",
      "                         'queue': 'development',\n",
      "                         'schema': 'local'},\n",
      " 'xsede.supermic': {'cores': 80,\n",
      "                    'project': 'TG-MCB090174',\n",
      "                    'queue': 'workq',\n",
      "                    'schema': 'gsissh'},\n",
      " 'xsede.supermic_orte': {'cores': 80,\n",
      "                         'project': 'TG-CCR140028',\n",
      "                         'queue': 'workq',\n",
      "                         'schema': 'gsissh'},\n",
      " 'xsede.supermic_ssh': {'cores': 64,\n",
      "                        'project': 'TG-MCB090174',\n",
      "                        'queue': 'workq',\n",
      "                        'schema': 'gsissh'},\n",
      " 'xsede.wrangler': {'cores': 24,\n",
      "                    'project': 'TG-MCB090174',\n",
      "                    'queue': 'debug',\n",
      "                    'schema': 'gsissh'}}\n"
     ]
    }
   ],
   "source": [
    "from dotenv import load_dotenv\n",
    "load_dotenv()\n",
    "\n",
    "RADICAL_PILOT_DBURL = os.getenv(\"RADICAL_PILOT_DBURL\")\n",
    "\n",
    "resource = 'local.localhost'\n",
    "config = ru.read_json('../config.json')\n",
    "pprint.pprint(config, width=1)"
   ]
  },
  {
   "cell_type": "markdown",
   "id": "97ab1560",
   "metadata": {},
   "source": [
    "\n",
    "### Reporter for a better visualization\n",
    "All code examples of this guide use the reporter facility of RADICAL-Utils to print well formatted runtime and progress information. You can control that output with the `RADICAL_REPORT` variable, which can be set to `TRUE` or `FALSE` to enable / disable reporter output. We assume the setting to be TRUE when referencing any output in this chapter.\n",
    "\n",
    "**NOTE:** noteboks don't handle ANSII-Escape sequences very well - you may want to disable reporter animations with the following setting in you `.env`:\n",
    "\n",
    "    export RADICAL_REPORT_ANIME=False"
   ]
  },
  {
   "cell_type": "code",
   "execution_count": 5,
   "id": "7e4566d0",
   "metadata": {
    "scrolled": true
   },
   "outputs": [
    {
     "name": "stderr",
     "output_type": "stream",
     "text": [
      "\u001b[94m\u001b[1m\n",
      "\u001b[39m\u001b[0m\u001b[94m\u001b[1m================================================================================\n",
      "\u001b[39m\u001b[0m\u001b[94m\u001b[1m Getting Started (RP version 1.22.0)                                            \n",
      "\u001b[39m\u001b[0m\u001b[94m\u001b[1m================================================================================\n",
      "\u001b[39m\u001b[0m\u001b[94m\u001b[1m\n",
      "\u001b[39m\u001b[0m"
     ]
    }
   ],
   "source": [
    "report = ru.Reporter(name='radical.pilot')\n",
    "report.title('Getting Started (RP version %s)' % rp.version)"
   ]
  },
  {
   "cell_type": "markdown",
   "id": "51c58bcd",
   "metadata": {},
   "source": [
    "### Setting up the session\n",
    "\n",
    "A `rp.Session` is the root object for all other objects in RADICAL-Pilot.  The session ID is used to uniquely identify the application run.  That ID will, for example, be used to create a session sandbox in the current wrking directory into which logfiles etc. will be stored. \n",
    "\n",
    "**NOTE:** It is important to close the session at the end of the application's execution: \n",
    "\n",
    "    session.close()\n",
    "\n",
    "For one, that will terminate a number of local processes the session spawns to manage large workloads.  But also, and possibly more importantly, that will terminate all pilots of that session.  If you fail to terminate those pilots, they will still execute and allocate resources, and even though those resources idle that will count against your allocation on that resource.  Both processes and pilots will eventually time out - but that might take quite a bit of time."
   ]
  },
  {
   "cell_type": "code",
   "execution_count": 6,
   "id": "0a2c8f8a",
   "metadata": {},
   "outputs": [
    {
     "name": "stderr",
     "output_type": "stream",
     "text": [
      "\u001b[94mnew session: \u001b[39m\u001b[0m[rp.session.rivendell.merzky.019423.0009]\u001b[39m\u001b[0m\u001b[94m                         \\\n",
      "database   : \u001b[39m\u001b[0m[mongodb://localhost/am]\u001b[39m\u001b[0m\u001b[92m                                         ok\n",
      "\u001b[39m\u001b[0m"
     ]
    }
   ],
   "source": [
    "session = rp.Session()"
   ]
  },
  {
   "cell_type": "markdown",
   "id": "43dc96dd",
   "metadata": {},
   "source": [
    "A `rp.PilotManager` will, as the name suggests, manage the pilot instances the application will use, and the `rp.TaskManager` will manage the application tasks to be executed.  Both manager instances are attached to the Session, and their lifetime is controlled by the session."
   ]
  },
  {
   "cell_type": "code",
   "execution_count": 7,
   "id": "f6447a38",
   "metadata": {},
   "outputs": [
    {
     "name": "stderr",
     "output_type": "stream",
     "text": [
      "\u001b[94mcreate pilot manager\u001b[39m\u001b[0m\u001b[92m                                                          ok\n",
      "\u001b[39m\u001b[0m\u001b[94mcreate task manager\u001b[39m\u001b[0m\u001b[92m                                                           ok\n",
      "\u001b[39m\u001b[0m"
     ]
    }
   ],
   "source": [
    "pmgr = rp.PilotManager(session=session)\n",
    "tmgr = rp.TaskManager(session=session)"
   ]
  },
  {
   "cell_type": "markdown",
   "id": "b36f1a88",
   "metadata": {
    "pycharm": {
     "name": "#%% md\n"
    }
   },
   "source": [
    "### Setting up a Pilot\n",
    "\n",
    "RP applications allocate resources by submitting a pilot job to the target resource.  That is usually an HPC cluster, but in these examples we will run the pilot on localhost.  We first describe that resource allocation request in the `rp.PilotDescription`, and then will request the pilot to be launched by the `rp.PilotManager` which we instantiated above.\n",
    "\n",
    "### Pilot resource specification\n",
    "\n",
    "A `rp.PilotDescription` is used to specify the type and number of resources (CPU cores and GPUs) to allocate, and also what project is to be used for accounting, for how long the resources are requested, etc.  We use the values from the configuration loaded above - feel free to set your own values!\n",
    "\n",
    "The most important elements of the PilotDescription are:\n",
    "\n",
    "  - `resource`: a label which specifies the target resource, either local or remote, on which to run the pilot;\n",
    "  - `runtime`: the numbers of minutes the pilot is expected to be active, i.e., the runtime of the pilot.\n",
    "  - `cores`: the number of CPU cores the pilot is expected to manage, i.e., the size of the pilot;\n",
    "  - `gpus`: the number of GPUs the pilot is expected to manage;"
   ]
  },
  {
   "cell_type": "code",
   "execution_count": 8,
   "id": "af23b817",
   "metadata": {},
   "outputs": [],
   "source": [
    "pd_init = {\n",
    "               'resource'      : resource,\n",
    "               'runtime'       : 15,  # pilot runtime (min)\n",
    "               'exit_on_error' : True,\n",
    "               'project'       : config[resource].get('project', None),\n",
    "               'queue'         : config[resource].get('queue', None),\n",
    "               'access_schema' : config[resource].get('schema', None),\n",
    "               'cores'         : config[resource].get('cores', 1),\n",
    "               'gpus'          : config[resource].get('gpus', 0),\n",
    "              }\n",
    "pdesc = rp.PilotDescription(pd_init)"
   ]
  },
  {
   "cell_type": "markdown",
   "id": "6cf8aca1",
   "metadata": {},
   "source": [
    "### Launching the Pilot\n",
    "\n",
    "Pilots are launched via a `rp.PilotManager`, by passing the `rp.PilotDescription` to the `submit_pilots()` method. To make use of the pilot, we register it with the task manager which then can use it for task execution  (you can add any number of pilots to the task manager)."
   ]
  },
  {
   "cell_type": "code",
   "execution_count": 9,
   "id": "929decb5",
   "metadata": {},
   "outputs": [
    {
     "name": "stderr",
     "output_type": "stream",
     "text": [
      "\u001b[94msubmit 1 pilot(s)\u001b[39m\u001b[0m\n",
      "        pilot.0000   local.localhost           1 cores       0 gpus\u001b[39m\u001b[0m\u001b[92m           ok\n",
      "\u001b[39m\u001b[0m"
     ]
    }
   ],
   "source": [
    "pilot = pmgr.submit_pilots(pdesc)\n",
    "tmgr.add_pilots(pilot)"
   ]
  },
  {
   "cell_type": "markdown",
   "id": "1ce411cb",
   "metadata": {},
   "source": [
    "### Task execution\n",
    "\n",
    "At this point we have the system set up and ready to execute tasks.  Well, in fact the pilot job may still be waiting in a batch queue, or the pilot job's bootstrapper may still prepare the pilot virtualenv when starting the pilot job - but either way, we can begin to submit tasks to the `TaskManager` for execution.\n",
    "\n",
    "Similar to the pilot submission, we create an `rp.TaskDescription` for each task we want to execute.  That description specifies what we want to execute as a task, how to execute it, what resources it needs, etc.  For now, we submit a number (128) trivial `/bin/date` executable which runs on a single core:"
   ]
  },
  {
   "cell_type": "code",
   "execution_count": 10,
   "id": "1ba782cd",
   "metadata": {},
   "outputs": [
    {
     "name": "stderr",
     "output_type": "stream",
     "text": [
      "create: \u001b[39m\u001b[0m#\u001b[39m\u001b[0m#\u001b[39m\u001b[0m#\u001b[39m\u001b[0m#\u001b[39m\u001b[0m#\u001b[39m\u001b[0m#\u001b[39m\u001b[0m#\u001b[39m\u001b[0m#\u001b[39m\u001b[0m#\u001b[39m\u001b[0m#\u001b[39m\u001b[0m#\u001b[39m\u001b[0m#\u001b[39m\u001b[0m#\u001b[39m\u001b[0m#\u001b[39m\u001b[0m#\u001b[39m\u001b[0m#\u001b[39m\u001b[0m#\u001b[39m\u001b[0m#\u001b[39m\u001b[0m#\u001b[39m\u001b[0m#\u001b[39m\u001b[0m#\u001b[39m\u001b[0m#\u001b[39m\u001b[0m#\u001b[39m\u001b[0m#\u001b[39m\u001b[0m#\u001b[39m\u001b[0m#\u001b[39m\u001b[0m#\u001b[39m\u001b[0m#\u001b[39m\u001b[0m#\u001b[39m\u001b[0m#\u001b[39m\u001b[0m#\u001b[39m\u001b[0m#\u001b[39m\u001b[0m#\u001b[39m\u001b[0m#\u001b[39m\u001b[0m#\u001b[39m\u001b[0m#\u001b[39m\u001b[0m#\u001b[39m\u001b[0m#\u001b[39m\u001b[0m#\u001b[39m\u001b[0m#\u001b[39m\u001b[0m#\u001b[39m\u001b[0m#\u001b[39m\u001b[0m#\u001b[39m\u001b[0m#\u001b[39m\u001b[0m#\u001b[39m\u001b[0m#\u001b[39m\u001b[0m#\u001b[39m\u001b[0m#\u001b[39m\u001b[0m#\u001b[39m\u001b[0m#\u001b[39m\u001b[0m#\u001b[39m\u001b[0m#\u001b[39m\u001b[0m#\u001b[39m\u001b[0m#\u001b[39m\u001b[0m#\u001b[39m\u001b[0m#\u001b[39m\u001b[0m#\u001b[39m\u001b[0m#\u001b[39m\u001b[0m#\u001b[39m\u001b[0m#\u001b[39m\u001b[0m#\u001b[39m\u001b[0m#\u001b[39m\u001b[0m#\u001b[39m\u001b[0m#\u001b[39m\u001b[0m#\u001b[39m\u001b[0m#\u001b[39m\u001b[0m#\u001b[39m\u001b[0m#\u001b[39m\u001b[0m#\u001b[39m\u001b[0m#\u001b[39m\u001b[0m#\u001b[39m\u001b[0m#\u001b[39m\u001b[0m\n",
      "\u001b[39m\u001b[0msubmit: \u001b[39m\u001b[0m#\u001b[39m\u001b[0m#\u001b[39m\u001b[0m#\u001b[39m\u001b[0m#\u001b[39m\u001b[0m#\u001b[39m\u001b[0m#\u001b[39m\u001b[0m#\u001b[39m\u001b[0m#\u001b[39m\u001b[0m#\u001b[39m\u001b[0m#\u001b[39m\u001b[0m#\u001b[39m\u001b[0m#\u001b[39m\u001b[0m#\u001b[39m\u001b[0m#\u001b[39m\u001b[0m#\u001b[39m\u001b[0m#\u001b[39m\u001b[0m#\u001b[39m\u001b[0m#\u001b[39m\u001b[0m#\u001b[39m\u001b[0m#\u001b[39m\u001b[0m#\u001b[39m\u001b[0m#\u001b[39m\u001b[0m#\u001b[39m\u001b[0m#\u001b[39m\u001b[0m#\u001b[39m\u001b[0m#\u001b[39m\u001b[0m#\u001b[39m\u001b[0m#\u001b[39m\u001b[0m#\u001b[39m\u001b[0m#\u001b[39m\u001b[0m#\u001b[39m\u001b[0m#\u001b[39m\u001b[0m#\u001b[39m\u001b[0m#\u001b[39m\u001b[0m#\u001b[39m\u001b[0m#\u001b[39m\u001b[0m#\u001b[39m\u001b[0m#\u001b[39m\u001b[0m#\u001b[39m\u001b[0m#\u001b[39m\u001b[0m#\u001b[39m\u001b[0m#\u001b[39m\u001b[0m#\u001b[39m\u001b[0m#\u001b[39m\u001b[0m#\u001b[39m\u001b[0m#\u001b[39m\u001b[0m#\u001b[39m\u001b[0m#\u001b[39m\u001b[0m#\u001b[39m\u001b[0m#\u001b[39m\u001b[0m#\u001b[39m\u001b[0m#\u001b[39m\u001b[0m#\u001b[39m\u001b[0m#\u001b[39m\u001b[0m#\u001b[39m\u001b[0m#\u001b[39m\u001b[0m#\u001b[39m\u001b[0m#\u001b[39m\u001b[0m#\u001b[39m\u001b[0m#\u001b[39m\u001b[0m#\u001b[39m\u001b[0m#\u001b[39m\u001b[0m#\u001b[39m\u001b[0m#\u001b[39m\u001b[0m#\u001b[39m\u001b[0m#\u001b[39m\u001b[0m#\u001b[39m\u001b[0m#\u001b[39m\u001b[0m#\u001b[39m\u001b[0m#\u001b[39m\u001b[0m#\u001b[39m\u001b[0m#\u001b[39m\u001b[0m\n",
      "\u001b[39m\u001b[0m"
     ]
    }
   ],
   "source": [
    "report.progress_tgt(16, label='create')\n",
    "\n",
    "tds = list()\n",
    "for _ in range(16):\n",
    "    tds.append(rp.TaskDescription({'executable': '/bin/date'}))\n",
    "    report.progress()\n",
    "\n",
    "report.progress_done()\n",
    "\n",
    "tasks = tmgr.submit_tasks(tds)\n"
   ]
  },
  {
   "cell_type": "markdown",
   "id": "03112275",
   "metadata": {},
   "source": [
    "The tasks will now be scheduled for execution on the pilot we created above.  We now wait for the tasks to complete, i.e., to reach one of the final states `DONE`, `CANCELED` or `FAILED`.  Unless instructed otherwise, `tmgr.wait_tasks()` will wait for all tasks known to that task manager:"
   ]
  },
  {
   "cell_type": "code",
   "execution_count": 11,
   "id": "5f2ea29b",
   "metadata": {},
   "outputs": [
    {
     "name": "stderr",
     "output_type": "stream",
     "text": [
      "wait  : \u001b[39m\u001b[0m#\u001b[39m\u001b[0m#\u001b[39m\u001b[0m#\u001b[39m\u001b[0m#\u001b[39m\u001b[0m#\u001b[39m\u001b[0m#\u001b[39m\u001b[0m#\u001b[39m\u001b[0m#\u001b[39m\u001b[0m#\u001b[39m\u001b[0m#\u001b[39m\u001b[0m#\u001b[39m\u001b[0m#\u001b[39m\u001b[0m#\u001b[39m\u001b[0m#\u001b[39m\u001b[0m#\u001b[39m\u001b[0m#\u001b[39m\u001b[0m#\u001b[39m\u001b[0m#\u001b[39m\u001b[0m#\u001b[39m\u001b[0m#\u001b[39m\u001b[0m#\u001b[39m\u001b[0m#\u001b[39m\u001b[0m#\u001b[39m\u001b[0m#\u001b[39m\u001b[0m#\u001b[39m\u001b[0m#\u001b[39m\u001b[0m#\u001b[39m\u001b[0m#\u001b[39m\u001b[0m#\u001b[39m\u001b[0m#\u001b[39m\u001b[0m#\u001b[39m\u001b[0m#\u001b[39m\u001b[0m#\u001b[39m\u001b[0m#\u001b[39m\u001b[0m#\u001b[39m\u001b[0m#\u001b[39m\u001b[0m#\u001b[39m\u001b[0m#\u001b[39m\u001b[0m#\u001b[39m\u001b[0m#\u001b[39m\u001b[0m#\u001b[39m\u001b[0m#\u001b[39m\u001b[0m#\u001b[39m\u001b[0m#\u001b[39m\u001b[0m#\u001b[39m\u001b[0m#\u001b[39m\u001b[0m#\u001b[39m\u001b[0m#\u001b[39m\u001b[0m#\u001b[39m\u001b[0m#\u001b[39m\u001b[0m#\u001b[39m\u001b[0m#\u001b[39m\u001b[0m#\u001b[39m\u001b[0m#\u001b[39m\u001b[0m#\u001b[39m\u001b[0m#\u001b[39m\u001b[0m#\u001b[39m\u001b[0m#\u001b[39m\u001b[0m#\u001b[39m\u001b[0m#\u001b[39m\u001b[0m#\u001b[39m\u001b[0m#\u001b[39m\u001b[0m#\u001b[39m\u001b[0m#\u001b[39m\u001b[0m#\u001b[39m\u001b[0m#\u001b[39m\u001b[0m#\u001b[39m\u001b[0m#\u001b[39m\u001b[0m#\u001b[39m\u001b[0m#\u001b[39m\u001b[0m#\u001b[39m\u001b[0m#\u001b[39m\u001b[0m\n",
      "\u001b[39m\u001b[0m\u001b[94m\tDONE      :    16\n",
      "\u001b[39m\u001b[0m\u001b[92m                                                                              ok\n",
      "\u001b[39m\u001b[0m"
     ]
    },
    {
     "data": {
      "text/plain": [
       "['DONE',\n",
       " 'DONE',\n",
       " 'DONE',\n",
       " 'DONE',\n",
       " 'DONE',\n",
       " 'DONE',\n",
       " 'DONE',\n",
       " 'DONE',\n",
       " 'DONE',\n",
       " 'DONE',\n",
       " 'DONE',\n",
       " 'DONE',\n",
       " 'DONE',\n",
       " 'DONE',\n",
       " 'DONE',\n",
       " 'DONE']"
      ]
     },
     "execution_count": 11,
     "metadata": {},
     "output_type": "execute_result"
    }
   ],
   "source": [
    "tmgr.wait_tasks()"
   ]
  },
  {
   "cell_type": "markdown",
   "id": "9efbbe7a",
   "metadata": {},
   "source": [
    "Once completed, we can inspect the tasks for details of their execution: we print a summary for all tasks and then inspect one of them in a bit more detail:"
   ]
  },
  {
   "cell_type": "code",
   "execution_count": 12,
   "id": "e7a7d0ac",
   "metadata": {},
   "outputs": [
    {
     "name": "stderr",
     "output_type": "stream",
     "text": [
      "  * task.000000: DONE, exit:   0, out: Tue Mar  7 12:41:55 CET 2023\n",
      "\u001b[39m\u001b[0m  * task.000001: DONE, exit:   0, out: Tue Mar  7 12:41:55 CET 2023\n",
      "\u001b[39m\u001b[0m  * task.000002: DONE, exit:   0, out: Tue Mar  7 12:41:55 CET 2023\n",
      "\u001b[39m\u001b[0m  * task.000003: DONE, exit:   0, out: Tue Mar  7 12:41:55 CET 2023\n",
      "\u001b[39m\u001b[0m  * task.000004: DONE, exit:   0, out: Tue Mar  7 12:41:55 CET 2023\n",
      "\u001b[39m\u001b[0m  * task.000005: DONE, exit:   0, out: Tue Mar  7 12:41:55 CET 2023\n",
      "\u001b[39m\u001b[0m  * task.000006: DONE, exit:   0, out: Tue Mar  7 12:41:55 CET 2023\n",
      "\u001b[39m\u001b[0m  * task.000007: DONE, exit:   0, out: Tue Mar  7 12:41:55 CET 2023\n",
      "\u001b[39m\u001b[0m  * task.000008: DONE, exit:   0, out: Tue Mar  7 12:41:55 CET 2023\n",
      "\u001b[39m\u001b[0m  * task.000009: DONE, exit:   0, out: Tue Mar  7 12:41:55 CET 2023\n",
      "\u001b[39m\u001b[0m  * task.000010: DONE, exit:   0, out: Tue Mar  7 12:41:55 CET 2023\n",
      "\u001b[39m\u001b[0m  * task.000011: DONE, exit:   0, out: Tue Mar  7 12:41:55 CET 2023\n",
      "\u001b[39m\u001b[0m  * task.000012: DONE, exit:   0, out: Tue Mar  7 12:41:55 CET 2023\n",
      "\u001b[39m\u001b[0m  * task.000013: DONE, exit:   0, out: Tue Mar  7 12:41:55 CET 2023\n",
      "\u001b[39m\u001b[0m  * task.000014: DONE, exit:   0, out: Tue Mar  7 12:41:55 CET 2023\n",
      "\u001b[39m\u001b[0m  * task.000015: DONE, exit:   0, out: Tue Mar  7 12:41:55 CET 2023\n",
      "\u001b[39m\u001b[0m\n",
      "\u001b[39m\u001b[0muid             : task.000015\n",
      "\u001b[39m\u001b[0mtmgr            : tmgr.0000\n",
      "\u001b[39m\u001b[0mpilot           : pilot.0000\n",
      "\u001b[39m\u001b[0mname            : \n",
      "\u001b[39m\u001b[0mexecutable      : /bin/date\n",
      "\u001b[39m\u001b[0mstate           : DONE\n",
      "\u001b[39m\u001b[0mexit_code       : 0\n",
      "\u001b[39m\u001b[0mstdout          : Tue Mar  7 12:41:55 CET 2023\n",
      "\u001b[39m\u001b[0mstderr          : \n",
      "\u001b[39m\u001b[0mreturn_value    : None\n",
      "\u001b[39m\u001b[0mexception       : None\n",
      "\u001b[39m\u001b[0m\n",
      "\u001b[39m\u001b[0mendpoint_fs     : file://localhost/\n",
      "\u001b[39m\u001b[0mresource_sandbox: file://localhost/home/merzky/radical.pilot.sandbox\n",
      "\u001b[39m\u001b[0msession_sandbox : file://localhost/home/merzky/radical.pilot.sandbox/rp.session.rivendell.merzky.019423.0009\n",
      "\u001b[39m\u001b[0mpilot_sandbox   : file://localhost/home/merzky/radical.pilot.sandbox/rp.session.rivendell.merzky.019423.0009/pilot.0000/\n",
      "\u001b[39m\u001b[0mtask_sandbox    : file://localhost/home/merzky/radical.pilot.sandbox/rp.session.rivendell.merzky.019423.0009/pilot.0000/task.000015/\n",
      "\u001b[39m\u001b[0mclient_sandbox  : /mnt/home/merzky/radical/radical.pilot.test/docs/source/merged\n",
      "\u001b[39m\u001b[0m"
     ]
    }
   ],
   "source": [
    "for task in tasks:\n",
    "    report.plain('  * %s: %s, exit: %3s, out: %s'\n",
    "                % (task.uid, task.state[:4], task.exit_code, task.stdout[:35]))\n",
    "\n",
    "report.plain('\\n')\n",
    "\n",
    "report.plain('uid             : %s\\n' % task.uid)\n",
    "report.plain('tmgr            : %s\\n' % task.tmgr.uid)\n",
    "report.plain('pilot           : %s\\n' % task.pilot)\n",
    "report.plain('name            : %s\\n' % task.name)\n",
    "report.plain('executable      : %s\\n' % task.description['executable'])\n",
    "report.plain('state           : %s\\n' % task.state)\n",
    "report.plain('exit_code       : %s\\n' % task.exit_code)\n",
    "report.plain('stdout          : %s\\n' % task.stdout.strip())\n",
    "report.plain('stderr          : %s\\n' % task.stderr)\n",
    "report.plain('return_value    : %s\\n' % task.return_value)\n",
    "report.plain('exception       : %s\\n' % task.exception)\n",
    "report.plain('\\n')\n",
    "report.plain('endpoint_fs     : %s\\n' % task.endpoint_fs)\n",
    "report.plain('resource_sandbox: %s\\n' % task.resource_sandbox)\n",
    "report.plain('session_sandbox : %s\\n' % task.session_sandbox)\n",
    "report.plain('pilot_sandbox   : %s\\n' % task.pilot_sandbox)\n",
    "report.plain('task_sandbox    : %s\\n' % task.task_sandbox)\n",
    "report.plain('client_sandbox  : %s\\n' % task.client_sandbox)\n",
    "\n"
   ]
  },
  {
   "cell_type": "markdown",
   "id": "80415b6c",
   "metadata": {},
   "source": [
    "Not all tasks will usually succeed when executing - be it for internal errors (a simulation ran into an invalid condition), or because a compute node went down, etc.  Let's submit a new set of tasks and inspect the failure modes: we will scan `/bin/date` for acceptable single letter arguments:"
   ]
  },
  {
   "cell_type": "code",
   "execution_count": 13,
   "id": "32c95d9a",
   "metadata": {},
   "outputs": [
    {
     "name": "stderr",
     "output_type": "stream",
     "text": [
      "create: \u001b[39m\u001b[0m#\u001b[39m\u001b[0m#\u001b[39m\u001b[0m#\u001b[39m\u001b[0m#\u001b[39m\u001b[0m#\u001b[39m\u001b[0m#\u001b[39m\u001b[0m#\u001b[39m\u001b[0m#\u001b[39m\u001b[0m#\u001b[39m\u001b[0m#\u001b[39m\u001b[0m#\u001b[39m\u001b[0m#\u001b[39m\u001b[0m#\u001b[39m\u001b[0m#\u001b[39m\u001b[0m#\u001b[39m\u001b[0m#\u001b[39m\u001b[0m#\u001b[39m\u001b[0m#\u001b[39m\u001b[0m#\u001b[39m\u001b[0m#\u001b[39m\u001b[0m#\u001b[39m\u001b[0m#\u001b[39m\u001b[0m#\u001b[39m\u001b[0m#\u001b[39m\u001b[0m#\u001b[39m\u001b[0m#\u001b[39m\u001b[0m#\u001b[39m\u001b[0m#\u001b[39m\u001b[0m#\u001b[39m\u001b[0m#\u001b[39m\u001b[0m#\u001b[39m\u001b[0m#\u001b[39m\u001b[0m#\u001b[39m\u001b[0m#\u001b[39m\u001b[0m#\u001b[39m\u001b[0m#\u001b[39m\u001b[0m#\u001b[39m\u001b[0m#\u001b[39m\u001b[0m#\u001b[39m\u001b[0m#\u001b[39m\u001b[0m#\u001b[39m\u001b[0m#\u001b[39m\u001b[0m#\u001b[39m\u001b[0m#\u001b[39m\u001b[0m#\u001b[39m\u001b[0m#\u001b[39m\u001b[0m#\u001b[39m\u001b[0m#\u001b[39m\u001b[0m#\u001b[39m\u001b[0m#\u001b[39m\u001b[0m#\u001b[39m\u001b[0m#\u001b[39m\u001b[0m#\u001b[39m\u001b[0m#\u001b[39m\u001b[0m#\u001b[39m\u001b[0m#\u001b[39m\u001b[0m#\u001b[39m\u001b[0m#\u001b[39m\u001b[0m#\u001b[39m\u001b[0m#\u001b[39m\u001b[0m#\u001b[39m\u001b[0m#\u001b[39m\u001b[0m#\u001b[39m\u001b[0m#\u001b[39m\u001b[0m#\u001b[39m\u001b[0m#\u001b[39m\u001b[0m#\u001b[39m\u001b[0m#\u001b[39m\u001b[0m#\u001b[39m\u001b[0m#\u001b[39m\u001b[0m#\u001b[39m\u001b[0m#\u001b[39m\u001b[0m\n",
      "\u001b[39m\u001b[0msubmit: \u001b[39m\u001b[0m#\u001b[39m\u001b[0m#\u001b[39m\u001b[0m#\u001b[39m\u001b[0m#\u001b[39m\u001b[0m#\u001b[39m\u001b[0m#\u001b[39m\u001b[0m#\u001b[39m\u001b[0m#\u001b[39m\u001b[0m#\u001b[39m\u001b[0m#\u001b[39m\u001b[0m#\u001b[39m\u001b[0m#\u001b[39m\u001b[0m#\u001b[39m\u001b[0m#\u001b[39m\u001b[0m#\u001b[39m\u001b[0m#\u001b[39m\u001b[0m#\u001b[39m\u001b[0m#\u001b[39m\u001b[0m#\u001b[39m\u001b[0m#\u001b[39m\u001b[0m#\u001b[39m\u001b[0m#\u001b[39m\u001b[0m#\u001b[39m\u001b[0m#\u001b[39m\u001b[0m#\u001b[39m\u001b[0m#\u001b[39m\u001b[0m#\u001b[39m\u001b[0m#\u001b[39m\u001b[0m#\u001b[39m\u001b[0m#\u001b[39m\u001b[0m#\u001b[39m\u001b[0m#\u001b[39m\u001b[0m#\u001b[39m\u001b[0m#\u001b[39m\u001b[0m#\u001b[39m\u001b[0m#\u001b[39m\u001b[0m#\u001b[39m\u001b[0m#\u001b[39m\u001b[0m#\u001b[39m\u001b[0m#\u001b[39m\u001b[0m#\u001b[39m\u001b[0m#\u001b[39m\u001b[0m#\u001b[39m\u001b[0m#\u001b[39m\u001b[0m#\u001b[39m\u001b[0m#\u001b[39m\u001b[0m#\u001b[39m\u001b[0m#\u001b[39m\u001b[0m#\u001b[39m\u001b[0m#\u001b[39m\u001b[0m#\u001b[39m\u001b[0m#\u001b[39m\u001b[0m#\u001b[39m\u001b[0m#\u001b[39m\u001b[0m#\u001b[39m\u001b[0m#\u001b[39m\u001b[0m#\u001b[39m\u001b[0m#\u001b[39m\u001b[0m#\u001b[39m\u001b[0m#\u001b[39m\u001b[0m#\u001b[39m\u001b[0m#\u001b[39m\u001b[0m#\u001b[39m\u001b[0m#\u001b[39m\u001b[0m#\u001b[39m\u001b[0m#\u001b[39m\u001b[0m#\u001b[39m\u001b[0m#\u001b[39m\u001b[0m#\u001b[39m\u001b[0m#\u001b[39m\u001b[0m#\u001b[39m\u001b[0m#\u001b[39m\u001b[0m\n",
      "\u001b[39m\u001b[0m"
     ]
    }
   ],
   "source": [
    "import string\n",
    "letters = string.ascii_lowercase + string.ascii_uppercase\n",
    "\n",
    "report.progress_tgt(len(letters), label='create')\n",
    "\n",
    "tds = list()\n",
    "for letter in letters:\n",
    "    tds.append(rp.TaskDescription({'executable': '/bin/date',\n",
    "                                   'arguments': ['-' + letter]}))\n",
    "    report.progress()\n",
    "\n",
    "report.progress_done()\n",
    "\n",
    "tasks = tmgr.submit_tasks(tds)"
   ]
  },
  {
   "cell_type": "markdown",
   "id": "187dbca6",
   "metadata": {},
   "source": [
    "This time we wait only for the newly submitted tasks and check which ones succeeded - for those we check the resulting output."
   ]
  },
  {
   "cell_type": "code",
   "execution_count": 14,
   "id": "fa13837b",
   "metadata": {},
   "outputs": [
    {
     "name": "stderr",
     "output_type": "stream",
     "text": [
      "wait  : \u001b[39m\u001b[0m#\u001b[39m\u001b[0m#\u001b[39m\u001b[0m#\u001b[39m\u001b[0m#\u001b[39m\u001b[0m#\u001b[39m\u001b[0m#\u001b[39m\u001b[0m#\u001b[39m\u001b[0m#\u001b[39m\u001b[0m#\u001b[39m\u001b[0m#\u001b[39m\u001b[0m#\u001b[39m\u001b[0m#\u001b[39m\u001b[0m#\u001b[39m\u001b[0m#\u001b[39m\u001b[0m#\u001b[39m\u001b[0m#\u001b[39m\u001b[0m#\u001b[39m\u001b[0m#\u001b[39m\u001b[0m#\u001b[39m\u001b[0m#\u001b[39m\u001b[0m#\u001b[39m\u001b[0m#\u001b[39m\u001b[0m#\u001b[39m\u001b[0m#\u001b[39m\u001b[0m#\u001b[39m\u001b[0m#\u001b[39m\u001b[0m#\u001b[39m\u001b[0m#\u001b[39m\u001b[0m#\u001b[39m\u001b[0m#\u001b[39m\u001b[0m#\u001b[39m\u001b[0m#\u001b[39m\u001b[0m#\u001b[39m\u001b[0m#\u001b[39m\u001b[0m#\u001b[39m\u001b[0m#\u001b[39m\u001b[0m#\u001b[39m\u001b[0m#\u001b[39m\u001b[0m#\u001b[39m\u001b[0m#\u001b[39m\u001b[0m#\u001b[39m\u001b[0m#\u001b[39m\u001b[0m#\u001b[39m\u001b[0m#\u001b[39m\u001b[0m#\u001b[39m\u001b[0m#\u001b[39m\u001b[0m#\u001b[39m\u001b[0m#\u001b[39m\u001b[0m#\u001b[39m\u001b[0m#\u001b[39m\u001b[0m#\u001b[39m\u001b[0m#\u001b[39m\u001b[0m#\u001b[39m\u001b[0m#\u001b[39m\u001b[0m#\u001b[39m\u001b[0m#\u001b[39m\u001b[0m#\u001b[39m\u001b[0m#\u001b[39m\u001b[0m#\u001b[39m\u001b[0m#\u001b[39m\u001b[0m#\u001b[39m\u001b[0m#\u001b[39m\u001b[0m#\u001b[39m\u001b[0m#\u001b[39m\u001b[0m#\u001b[39m\u001b[0m#\u001b[39m\u001b[0m#\u001b[39m\u001b[0m#\u001b[39m\u001b[0m#\u001b[39m\u001b[0m#\u001b[39m\u001b[0m#\u001b[39m\u001b[0m#\u001b[39m\u001b[0m\n",
      "\u001b[39m\u001b[0m\u001b[94m\tDONE      :     3\n",
      "\u001b[39m\u001b[0m\u001b[94m\tFAILED    :    49\n",
      "\u001b[39m\u001b[0m\u001b[92m                                                                              ok\n",
      "\u001b[39m\u001b[0m"
     ]
    },
    {
     "name": "stdout",
     "output_type": "stream",
     "text": [
      "task.000036: ['-u']: Tue Mar  7 11:41:59 UTC 2023\n",
      "task.000050: ['-I']: 2023-03-07\n",
      "task.000059: ['-R']: Tue, 07 Mar 2023 12:41:59 +0100\n"
     ]
    }
   ],
   "source": [
    "tmgr.wait_tasks([task.uid for task in tasks])\n",
    "\n",
    "for task in tasks:\n",
    "    if task.state == rp.DONE:\n",
    "        print('%s: %s: %s' % (task.uid, task.description['arguments'], task.stdout.strip()))\n"
   ]
  },
  {
   "cell_type": "markdown",
   "id": "29c8c3cb",
   "metadata": {},
   "source": [
    "## Handle Failing Tasks\n",
    "\n",
    "All applications can fail, often for reasons out of control of the user. A Task is no different, it can fail as well. Many non-trivial application will need to have a way to handle failing tasks – detecting the failure is the first and necessary step to do so, and RP makes that part easy: RP’s task state model defines that a failing task will immediately go into FAILED state, and that state information is available as task.state property.\n",
    "\n",
    "The task also has the task.stderr property available for further inspection into causes of the failure – that will only be available though if the task did reach the EXECUTING state in the first place.\n"
   ]
  },
  {
   "cell_type": "code",
   "execution_count": 15,
   "id": "480544e8",
   "metadata": {},
   "outputs": [
    {
     "name": "stderr",
     "output_type": "stream",
     "text": [
      "\u001b[94mcreate 10 task description(s)\n",
      "        \u001b[39m\u001b[0m.\u001b[39m\u001b[0m.\u001b[39m\u001b[0m.\u001b[39m\u001b[0m.\u001b[39m\u001b[0m.\u001b[39m\u001b[0m.\u001b[39m\u001b[0m.\u001b[39m\u001b[0m.\u001b[39m\u001b[0m.\u001b[39m\u001b[0m.\u001b[39m\u001b[0m\u001b[92m                                                            ok\n",
      "\u001b[39m\u001b[0msubmit: \u001b[39m\u001b[0m#\u001b[39m\u001b[0m#\u001b[39m\u001b[0m#\u001b[39m\u001b[0m#\u001b[39m\u001b[0m#\u001b[39m\u001b[0m#\u001b[39m\u001b[0m#\u001b[39m\u001b[0m#\u001b[39m\u001b[0m#\u001b[39m\u001b[0m#\u001b[39m\u001b[0m#\u001b[39m\u001b[0m#\u001b[39m\u001b[0m#\u001b[39m\u001b[0m#\u001b[39m\u001b[0m#\u001b[39m\u001b[0m#\u001b[39m\u001b[0m#\u001b[39m\u001b[0m#\u001b[39m\u001b[0m#\u001b[39m\u001b[0m#\u001b[39m\u001b[0m#\u001b[39m\u001b[0m#\u001b[39m\u001b[0m#\u001b[39m\u001b[0m#\u001b[39m\u001b[0m#\u001b[39m\u001b[0m#\u001b[39m\u001b[0m#\u001b[39m\u001b[0m#\u001b[39m\u001b[0m#\u001b[39m\u001b[0m#\u001b[39m\u001b[0m#\u001b[39m\u001b[0m#\u001b[39m\u001b[0m#\u001b[39m\u001b[0m#\u001b[39m\u001b[0m#\u001b[39m\u001b[0m#\u001b[39m\u001b[0m#\u001b[39m\u001b[0m#\u001b[39m\u001b[0m#\u001b[39m\u001b[0m#\u001b[39m\u001b[0m#\u001b[39m\u001b[0m#\u001b[39m\u001b[0m#\u001b[39m\u001b[0m#\u001b[39m\u001b[0m#\u001b[39m\u001b[0m#\u001b[39m\u001b[0m#\u001b[39m\u001b[0m#\u001b[39m\u001b[0m#\u001b[39m\u001b[0m#\u001b[39m\u001b[0m#\u001b[39m\u001b[0m#\u001b[39m\u001b[0m#\u001b[39m\u001b[0m#\u001b[39m\u001b[0m#\u001b[39m\u001b[0m#\u001b[39m\u001b[0m#\u001b[39m\u001b[0m#\u001b[39m\u001b[0m#\u001b[39m\u001b[0m#\u001b[39m\u001b[0m#\u001b[39m\u001b[0m#\u001b[39m\u001b[0m#\u001b[39m\u001b[0m#\u001b[39m\u001b[0m#\u001b[39m\u001b[0m#\u001b[39m\u001b[0m#\u001b[39m\u001b[0m#\u001b[39m\u001b[0m#\u001b[39m\u001b[0m#\u001b[39m\u001b[0m#\u001b[39m\u001b[0m#\u001b[39m\u001b[0m\n",
      "\u001b[39m\u001b[0m\u001b[93m\u001b[1m\n",
      "\u001b[39m\u001b[0m\u001b[93m\u001b[1m--------------------------------------------------------------------------------\n",
      "\u001b[39m\u001b[0m\u001b[93m\u001b[1mgather results                                                                  \n",
      "\u001b[39m\u001b[0m\u001b[93m\u001b[1m\n",
      "\u001b[39m\u001b[0mwait  : \u001b[39m\u001b[0m#\u001b[39m\u001b[0m#\u001b[39m\u001b[0m#\u001b[39m\u001b[0m#\u001b[39m\u001b[0m#\u001b[39m\u001b[0m#\u001b[39m\u001b[0m#\u001b[39m\u001b[0m#\u001b[39m\u001b[0m#\u001b[39m\u001b[0m#\u001b[39m\u001b[0m#\u001b[39m\u001b[0m#\u001b[39m\u001b[0m#\u001b[39m\u001b[0m#\u001b[39m\u001b[0m#\u001b[39m\u001b[0m#\u001b[39m\u001b[0m#\u001b[39m\u001b[0m#\u001b[39m\u001b[0m#\u001b[39m\u001b[0m#\u001b[39m\u001b[0m#\u001b[39m\u001b[0m#\u001b[39m\u001b[0m#\u001b[39m\u001b[0m#\u001b[39m\u001b[0m#\u001b[39m\u001b[0m#\u001b[39m\u001b[0m#\u001b[39m\u001b[0m#\u001b[39m\u001b[0m#\u001b[39m\u001b[0m#\u001b[39m\u001b[0m#\u001b[39m\u001b[0m#\u001b[39m\u001b[0m#\u001b[39m\u001b[0m#\u001b[39m\u001b[0m#\u001b[39m\u001b[0m#\u001b[39m\u001b[0m#\u001b[39m\u001b[0m#\u001b[39m\u001b[0m#\u001b[39m\u001b[0m#\u001b[39m\u001b[0m#\u001b[39m\u001b[0m#\u001b[39m\u001b[0m#\u001b[39m\u001b[0m#\u001b[39m\u001b[0m#\u001b[39m\u001b[0m#\u001b[39m\u001b[0m#\u001b[39m\u001b[0m#\u001b[39m\u001b[0m#\u001b[39m\u001b[0m#\u001b[39m\u001b[0m#\u001b[39m\u001b[0m#\u001b[39m\u001b[0m#\u001b[39m\u001b[0m#\u001b[39m\u001b[0m#\u001b[39m\u001b[0m#\u001b[39m\u001b[0m#\u001b[39m\u001b[0m#\u001b[39m\u001b[0m#\u001b[39m\u001b[0m#\u001b[39m\u001b[0m#\u001b[39m\u001b[0m#\u001b[39m\u001b[0m#\u001b[39m\u001b[0m#\u001b[39m\u001b[0m#\u001b[39m\u001b[0m#\u001b[39m\u001b[0m#\u001b[39m\u001b[0m#\u001b[39m\u001b[0m#\u001b[39m\u001b[0m#\u001b[39m\u001b[0m#\u001b[39m\u001b[0m#\u001b[39m\u001b[0m\n",
      "\u001b[39m\u001b[0m\u001b[94m\tDONE      :     5\n",
      "\u001b[39m\u001b[0m\u001b[94m\tFAILED    :     5\n",
      "\u001b[39m\u001b[0m\u001b[92m                                                                              ok\n",
      "\u001b[39m\u001b[0m\u001b[94m\n",
      "\u001b[39m\u001b[0m  * task.000068: FAIL, exit:   127, err: -/home/merzky/radical.pilot.sandbox/rp.session.rivendell.merzky.019423.0009//pilot.0000//task.000068/task.000068.exec.sh: 47: /home/merzky/radical.pilot.sandbox/rp.session.rivendell.merzky.019423.0009//pilot.0000//task.000068/task.000068.exec.sh: /bin/data: not found\n",
      "-\u001b[39m\u001b[0m\u001b[91m                                                                            err\n",
      "\u001b[39m\u001b[0m  * task.000069: DONE, exit:     0, out:       Tue Mar  7 12:42:05 CET 2023\n",
      "\u001b[39m\u001b[0m\u001b[92m                                                                              ok\n",
      "\u001b[39m\u001b[0m  * task.000070: FAIL, exit:   127, err: -/home/merzky/radical.pilot.sandbox/rp.session.rivendell.merzky.019423.0009//pilot.0000//task.000070/task.000070.exec.sh: 47: /home/merzky/radical.pilot.sandbox/rp.session.rivendell.merzky.019423.0009//pilot.0000//task.000070/task.000070.exec.sh: /bin/data: not found\n",
      "-\u001b[39m\u001b[0m\u001b[91m                                                                            err\n",
      "\u001b[39m\u001b[0m  * task.000071: DONE, exit:     0, out:       Tue Mar  7 12:42:05 CET 2023\n",
      "\u001b[39m\u001b[0m\u001b[92m                                                                              ok\n",
      "\u001b[39m\u001b[0m  * task.000072: FAIL, exit:   127, err: -/home/merzky/radical.pilot.sandbox/rp.session.rivendell.merzky.019423.0009//pilot.0000//task.000072/task.000072.exec.sh: 47: /home/merzky/radical.pilot.sandbox/rp.session.rivendell.merzky.019423.0009//pilot.0000//task.000072/task.000072.exec.sh: /bin/data: not found\n",
      "-\u001b[39m\u001b[0m\u001b[91m                                                                            err\n",
      "\u001b[39m\u001b[0m  * task.000073: DONE, exit:     0, out:       Tue Mar  7 12:42:05 CET 2023\n",
      "\u001b[39m\u001b[0m\u001b[92m                                                                              ok\n",
      "\u001b[39m\u001b[0m  * task.000074: FAIL, exit:   127, err: -/home/merzky/radical.pilot.sandbox/rp.session.rivendell.merzky.019423.0009//pilot.0000//task.000074/task.000074.exec.sh: 47: /home/merzky/radical.pilot.sandbox/rp.session.rivendell.merzky.019423.0009//pilot.0000//task.000074/task.000074.exec.sh: /bin/data: not found\n",
      "-\u001b[39m\u001b[0m\u001b[91m                                                                            err\n",
      "\u001b[39m\u001b[0m  * task.000075: DONE, exit:     0, out:       Tue Mar  7 12:42:05 CET 2023\n",
      "\u001b[39m\u001b[0m\u001b[92m                                                                              ok\n",
      "\u001b[39m\u001b[0m  * task.000076: FAIL, exit:   127, err: -/home/merzky/radical.pilot.sandbox/rp.session.rivendell.merzky.019423.0009//pilot.0000//task.000076/task.000076.exec.sh: 47: /home/merzky/radical.pilot.sandbox/rp.session.rivendell.merzky.019423.0009//pilot.0000//task.000076/task.000076.exec.sh: /bin/data: not found\n",
      "-\u001b[39m\u001b[0m\u001b[91m                                                                            err\n",
      "\u001b[39m\u001b[0m  * task.000077: DONE, exit:     0, out:       Tue Mar  7 12:42:05 CET 2023\n",
      "\u001b[39m\u001b[0m\u001b[92m                                                                              ok\n",
      "\u001b[39m\u001b[0m"
     ]
    }
   ],
   "source": [
    "report.info('create %d task description(s)\\n\\t' % 10)\n",
    "\n",
    "tds = list()\n",
    "for i in range(0, 10):\n",
    "\n",
    "    td = rp.TaskDescription()\n",
    "    if i % 2:\n",
    "        td.executable = '/bin/date'\n",
    "    else:\n",
    "        # trigger an error now and then\n",
    "        td.executable = '/bin/data'  # does not exist\n",
    "    tds.append(td)\n",
    "    report.progress()\n",
    "\n",
    "report.ok('>>ok\\n')\n",
    "\n",
    "tasks = tmgr.submit_tasks(tds)\n",
    "\n",
    "report.header('gather results')\n",
    "tmgr.wait_tasks()\n",
    "\n",
    "\n",
    "report.info('\\n')\n",
    "for task in tasks:\n",
    "    if task.state in [rp.FAILED, rp.CANCELED]:\n",
    "        report.plain('  * %s: %s, exit: %5s, err: -%35s-'\n",
    "                    % (task.uid, task.state[:4],\n",
    "                       task.exit_code, task.stderr))\n",
    "        report.error('>>err\\n')\n",
    "\n",
    "    else:\n",
    "        report.plain('  * %s: %s, exit: %5s, out: %35s'\n",
    "                    % (task.uid, task.state[:4],\n",
    "                       task.exit_code, task.stdout))\n",
    "        report.ok('>>ok\\n')\n"
   ]
  },
  {
   "cell_type": "markdown",
   "id": "80df830a",
   "metadata": {},
   "source": [
    "## Use Multiple Pilots\n",
    "\n",
    "We have seen in the previous examples how an RP pilot acts as a container for multiple task executions. There is in principle no limit on how many of those pilots are used to execute a specific workload, and specifically, pilots don’t need to run on the same resource!\n",
    "\n",
    "The below example demonstrates that. Instead of creating one pilot description, we here create one for any resource specified as command line parameter, no matter if those parameters point to the same resource targets or not.\n",
    "The tasks are distributed over the created set of pilots according to some scheduling mechanism – section Selecting a Task Scheduler will discuss how an application can choose between different scheduling policies. The default policy used here is Round Robin."
   ]
  },
  {
   "cell_type": "code",
   "execution_count": 16,
   "id": "e430dbf5",
   "metadata": {},
   "outputs": [
    {
     "name": "stderr",
     "output_type": "stream",
     "text": [
      "\u001b[94msubmit 2 pilot(s)\u001b[39m\u001b[0m\n",
      "        pilot.0001   local.localhost           1 cores       0 gpus\u001b[39m\u001b[0m\n",
      "        pilot.0002   local.localhost           1 cores       0 gpus\u001b[39m\u001b[0m\u001b[92m           ok\n",
      "\u001b[39m\u001b[0m\u001b[94mcreate task manager\u001b[39m\u001b[0m\u001b[92m                                                           ok\n",
      "\u001b[39m\u001b[0m\u001b[94mcreate 10 task description(s)\n",
      "        \u001b[39m\u001b[0m.\u001b[39m\u001b[0m.\u001b[39m\u001b[0m.\u001b[39m\u001b[0m.\u001b[39m\u001b[0m.\u001b[39m\u001b[0m.\u001b[39m\u001b[0m.\u001b[39m\u001b[0m.\u001b[39m\u001b[0m.\u001b[39m\u001b[0m.\u001b[39m\u001b[0m\u001b[92m                                                            ok\n",
      "\u001b[39m\u001b[0msubmit: \u001b[39m\u001b[0m#\u001b[39m\u001b[0m#\u001b[39m\u001b[0m#\u001b[39m\u001b[0m#\u001b[39m\u001b[0m#\u001b[39m\u001b[0m#\u001b[39m\u001b[0m#\u001b[39m\u001b[0m#\u001b[39m\u001b[0m#\u001b[39m\u001b[0m#\u001b[39m\u001b[0m#\u001b[39m\u001b[0m#\u001b[39m\u001b[0m#\u001b[39m\u001b[0m#\u001b[39m\u001b[0m#\u001b[39m\u001b[0m#\u001b[39m\u001b[0m#\u001b[39m\u001b[0m#\u001b[39m\u001b[0m#\u001b[39m\u001b[0m#\u001b[39m\u001b[0m#\u001b[39m\u001b[0m#\u001b[39m\u001b[0m#\u001b[39m\u001b[0m#\u001b[39m\u001b[0m#\u001b[39m\u001b[0m#\u001b[39m\u001b[0m#\u001b[39m\u001b[0m#\u001b[39m\u001b[0m#\u001b[39m\u001b[0m#\u001b[39m\u001b[0m#\u001b[39m\u001b[0m#\u001b[39m\u001b[0m#\u001b[39m\u001b[0m#\u001b[39m\u001b[0m#\u001b[39m\u001b[0m#\u001b[39m\u001b[0m#\u001b[39m\u001b[0m#\u001b[39m\u001b[0m#\u001b[39m\u001b[0m#\u001b[39m\u001b[0m#\u001b[39m\u001b[0m#\u001b[39m\u001b[0m#\u001b[39m\u001b[0m#\u001b[39m\u001b[0m#\u001b[39m\u001b[0m#\u001b[39m\u001b[0m#\u001b[39m\u001b[0m#\u001b[39m\u001b[0m#\u001b[39m\u001b[0m#\u001b[39m\u001b[0m#\u001b[39m\u001b[0m#\u001b[39m\u001b[0m#\u001b[39m\u001b[0m#\u001b[39m\u001b[0m#\u001b[39m\u001b[0m#\u001b[39m\u001b[0m#\u001b[39m\u001b[0m#\u001b[39m\u001b[0m#\u001b[39m\u001b[0m#\u001b[39m\u001b[0m#\u001b[39m\u001b[0m#\u001b[39m\u001b[0m#\u001b[39m\u001b[0m#\u001b[39m\u001b[0m#\u001b[39m\u001b[0m#\u001b[39m\u001b[0m#\u001b[39m\u001b[0m#\u001b[39m\u001b[0m#\u001b[39m\u001b[0m#\u001b[39m\u001b[0m#\u001b[39m\u001b[0m#\u001b[39m\u001b[0m\n",
      "\u001b[39m\u001b[0m\u001b[93m\u001b[1m\n",
      "\u001b[39m\u001b[0m\u001b[93m\u001b[1m--------------------------------------------------------------------------------\n",
      "\u001b[39m\u001b[0m\u001b[93m\u001b[1mgather results                                                                  \n",
      "\u001b[39m\u001b[0m\u001b[93m\u001b[1m\n",
      "\u001b[39m\u001b[0mwait  : \u001b[39m\u001b[0m#\u001b[39m\u001b[0m#\u001b[39m\u001b[0m#\u001b[39m\u001b[0m#\u001b[39m\u001b[0m#\u001b[39m\u001b[0m#\u001b[39m\u001b[0m#\u001b[39m\u001b[0m#\u001b[39m\u001b[0m#\u001b[39m\u001b[0m#\u001b[39m\u001b[0m#\u001b[39m\u001b[0m#\u001b[39m\u001b[0m#\u001b[39m\u001b[0m#\u001b[39m\u001b[0m#\u001b[39m\u001b[0m#\u001b[39m\u001b[0m#\u001b[39m\u001b[0m#\u001b[39m\u001b[0m#\u001b[39m\u001b[0m#\u001b[39m\u001b[0m#\u001b[39m\u001b[0m#\u001b[39m\u001b[0m#\u001b[39m\u001b[0m#\u001b[39m\u001b[0m#\u001b[39m\u001b[0m#\u001b[39m\u001b[0m#\u001b[39m\u001b[0m#\u001b[39m\u001b[0m#\u001b[39m\u001b[0m#\u001b[39m\u001b[0m#\u001b[39m\u001b[0m#\u001b[39m\u001b[0m#\u001b[39m\u001b[0m#\u001b[39m\u001b[0m#\u001b[39m\u001b[0m#\u001b[39m\u001b[0m#\u001b[39m\u001b[0m#\u001b[39m\u001b[0m#\u001b[39m\u001b[0m#\u001b[39m\u001b[0m#\u001b[39m\u001b[0m#\u001b[39m\u001b[0m#\u001b[39m\u001b[0m#\u001b[39m\u001b[0m#\u001b[39m\u001b[0m#\u001b[39m\u001b[0m#\u001b[39m\u001b[0m#\u001b[39m\u001b[0m#\u001b[39m\u001b[0m#\u001b[39m\u001b[0m#\u001b[39m\u001b[0m#\u001b[39m\u001b[0m#\u001b[39m\u001b[0m#\u001b[39m\u001b[0m#\u001b[39m\u001b[0m#\u001b[39m\u001b[0m#\u001b[39m\u001b[0m#\u001b[39m\u001b[0m#\u001b[39m\u001b[0m#\u001b[39m\u001b[0m#\u001b[39m\u001b[0m#\u001b[39m\u001b[0m#\u001b[39m\u001b[0m#\u001b[39m\u001b[0m#\u001b[39m\u001b[0m#\u001b[39m\u001b[0m#\u001b[39m\u001b[0m#\u001b[39m\u001b[0m#\u001b[39m\u001b[0m#\u001b[39m\u001b[0m#\u001b[39m\u001b[0m#\u001b[39m\u001b[0m\n",
      "\u001b[39m\u001b[0m\u001b[94m\tDONE      :    10\n",
      "\u001b[39m\u001b[0m\u001b[92m                                                                              ok\n",
      "\u001b[39m\u001b[0m"
     ]
    },
    {
     "data": {
      "text/plain": [
       "['DONE',\n",
       " 'DONE',\n",
       " 'DONE',\n",
       " 'DONE',\n",
       " 'DONE',\n",
       " 'DONE',\n",
       " 'DONE',\n",
       " 'DONE',\n",
       " 'DONE',\n",
       " 'DONE']"
      ]
     },
     "execution_count": 16,
     "metadata": {},
     "output_type": "execute_result"
    }
   ],
   "source": [
    "pdescs = list()\n",
    "pdescs.append(pdesc)\n",
    "pdescs.append(pdesc)\n",
    "pilots = pmgr.submit_pilots(pdescs)\n",
    "\n",
    "tmgr.add_pilots(pilots)\n",
    "\n",
    "\n",
    "tmgr = rp.TaskManager(session=session)\n",
    "tmgr.add_pilots(pilots)\n",
    "\n",
    "n = 10\n",
    "report.info('create %d task description(s)\\n\\t' % n)\n",
    "\n",
    "tds = list()\n",
    "for i in range(0, n):\n",
    "    td = rp.TaskDescription()\n",
    "    td.executable = '/bin/echo'\n",
    "    td.arguments  = ['$RP_PILOT_ID']\n",
    "\n",
    "    tds.append(td)\n",
    "    report.progress()\n",
    "report.ok('>>ok\\n')\n",
    "tasks = tmgr.submit_tasks(tds)\n",
    "report.header('gather results')\n",
    "tmgr.wait_tasks()\n",
    "\n"
   ]
  },
  {
   "cell_type": "code",
   "execution_count": 17,
   "id": "46def43e",
   "metadata": {},
   "outputs": [
    {
     "name": "stderr",
     "output_type": "stream",
     "text": [
      "  * task.000078: DONE, exit:   0, out: pilot.0001\n",
      "\u001b[39m\u001b[0m  * task.000079: DONE, exit:   0, out: pilot.0002\n",
      "\u001b[39m\u001b[0m  * task.000080: DONE, exit:   0, out: pilot.0001\n",
      "\u001b[39m\u001b[0m  * task.000081: DONE, exit:   0, out: pilot.0002\n",
      "\u001b[39m\u001b[0m  * task.000082: DONE, exit:   0, out: pilot.0001\n",
      "\u001b[39m\u001b[0m  * task.000083: DONE, exit:   0, out: pilot.0002\n",
      "\u001b[39m\u001b[0m  * task.000084: DONE, exit:   0, out: pilot.0001\n",
      "\u001b[39m\u001b[0m  * task.000085: DONE, exit:   0, out: pilot.0002\n",
      "\u001b[39m\u001b[0m  * task.000086: DONE, exit:   0, out: pilot.0001\n",
      "\u001b[39m\u001b[0m  * task.000087: DONE, exit:   0, out: pilot.0002\n",
      "\u001b[39m\u001b[0m\u001b[94m\n",
      "\u001b[39m\u001b[0m\u001b[94m  * pilot.0001          :   5\n",
      "\u001b[39m\u001b[0m\u001b[94m  * pilot.0002          :   5\n",
      "\u001b[39m\u001b[0m\u001b[94m  * total               :  10\n",
      "\u001b[39m\u001b[0m"
     ]
    }
   ],
   "source": [
    "counts = dict()\n",
    "for task in tasks:\n",
    "    out_str = task.stdout.strip()[:35]\n",
    "    report.plain('  * %s: %s, exit: %3s, out: %s\\n'\n",
    "            % (task.uid, task.state[:4],\n",
    "                task.exit_code, out_str))\n",
    "    if out_str not in counts:\n",
    "        counts[out_str] = 0\n",
    "    counts[out_str] += 1\n",
    "\n",
    "report.info(\"\\n\")\n",
    "for out_str in counts:\n",
    "    report.info(\"  * %-20s: %3d\\n\" % (out_str, counts[out_str]))\n",
    "report.info(\"  * %-20s: %3d\\n\" % ('total', sum(counts.values())))\n"
   ]
  },
  {
   "cell_type": "markdown",
   "id": "2e466b67",
   "metadata": {},
   "source": [
    "### MPI Tasks and Task Resources\n",
    "\n",
    "In the examples we have, so far, been running single-core tasks.  By expanding the task description to include the `ranks` attribute, we can request multiple MPI ranks to be created where each rank uses one core.  Additional resource requirements can be specified per rank:\n",
    "\n",
    "  - `cores_per_rank`: the number of cores each rank can user for spawning additional threads or processes\n",
    "  - `gpus_per_rank`: the number of GPUs each rank can utilize\n",
    "  - `mem_per_rank`: the size of memory (in Megabytes) which is available to each rank\n",
    "  - `lfs_per_rank`: the amount of node-local file storage which is available to each rank\n",
    "\n",
    "We use the `radical-pilot-hello.sh` command to report on rank creation:"
   ]
  },
  {
   "cell_type": "code",
   "execution_count": 18,
   "id": "9047b209",
   "metadata": {},
   "outputs": [
    {
     "name": "stderr",
     "output_type": "stream",
     "text": [
      ".\u001b[39m\u001b[0m.\u001b[39m\u001b[0m.\u001b[39m\u001b[0m.\u001b[39m\u001b[0m\n",
      "\u001b[39m\u001b[0msubmit: \u001b[39m\u001b[0m#\u001b[39m\u001b[0m#\u001b[39m\u001b[0m#\u001b[39m\u001b[0m#\u001b[39m\u001b[0m#\u001b[39m\u001b[0m#\u001b[39m\u001b[0m#\u001b[39m\u001b[0m#\u001b[39m\u001b[0m#\u001b[39m\u001b[0m#\u001b[39m\u001b[0m#\u001b[39m\u001b[0m#\u001b[39m\u001b[0m#\u001b[39m\u001b[0m#\u001b[39m\u001b[0m#\u001b[39m\u001b[0m#\u001b[39m\u001b[0m#\u001b[39m\u001b[0m#\u001b[39m\u001b[0m#\u001b[39m\u001b[0m#\u001b[39m\u001b[0m#\u001b[39m\u001b[0m#\u001b[39m\u001b[0m#\u001b[39m\u001b[0m#\u001b[39m\u001b[0m#\u001b[39m\u001b[0m#\u001b[39m\u001b[0m#\u001b[39m\u001b[0m#\u001b[39m\u001b[0m#\u001b[39m\u001b[0m#\u001b[39m\u001b[0m#\u001b[39m\u001b[0m#\u001b[39m\u001b[0m#\u001b[39m\u001b[0m#\u001b[39m\u001b[0m#\u001b[39m\u001b[0m#\u001b[39m\u001b[0m#\u001b[39m\u001b[0m#\u001b[39m\u001b[0m#\u001b[39m\u001b[0m#\u001b[39m\u001b[0m#\u001b[39m\u001b[0m#\u001b[39m\u001b[0m#\u001b[39m\u001b[0m#\u001b[39m\u001b[0m#\u001b[39m\u001b[0m#\u001b[39m\u001b[0m#\u001b[39m\u001b[0m#\u001b[39m\u001b[0m#\u001b[39m\u001b[0m#\u001b[39m\u001b[0m#\u001b[39m\u001b[0m#\u001b[39m\u001b[0m#\u001b[39m\u001b[0m#\u001b[39m\u001b[0m#\u001b[39m\u001b[0m#\u001b[39m\u001b[0m#\u001b[39m\u001b[0m#\u001b[39m\u001b[0m#\u001b[39m\u001b[0m#\u001b[39m\u001b[0m#\u001b[39m\u001b[0m#\u001b[39m\u001b[0m#\u001b[39m\u001b[0m#\u001b[39m\u001b[0m#\u001b[39m\u001b[0m#\u001b[39m\u001b[0m#\u001b[39m\u001b[0m#\u001b[39m\u001b[0m#\u001b[39m\u001b[0m#\u001b[39m\u001b[0m#\u001b[39m\u001b[0m#\u001b[39m\u001b[0m\n",
      "\u001b[39m\u001b[0mwait  : \u001b[39m\u001b[0m#\u001b[39m\u001b[0m#\u001b[39m\u001b[0m#\u001b[39m\u001b[0m#\u001b[39m\u001b[0m#\u001b[39m\u001b[0m#\u001b[39m\u001b[0m#\u001b[39m\u001b[0m#\u001b[39m\u001b[0m#\u001b[39m\u001b[0m#\u001b[39m\u001b[0m#\u001b[39m\u001b[0m#\u001b[39m\u001b[0m#\u001b[39m\u001b[0m#\u001b[39m\u001b[0m#\u001b[39m\u001b[0m#\u001b[39m\u001b[0m#\u001b[39m\u001b[0m#\u001b[39m\u001b[0m#\u001b[39m\u001b[0m#\u001b[39m\u001b[0m#\u001b[39m\u001b[0m#\u001b[39m\u001b[0m#\u001b[39m\u001b[0m#\u001b[39m\u001b[0m#\u001b[39m\u001b[0m#\u001b[39m\u001b[0m#\u001b[39m\u001b[0m#\u001b[39m\u001b[0m#\u001b[39m\u001b[0m#\u001b[39m\u001b[0m#\u001b[39m\u001b[0m#\u001b[39m\u001b[0m#\u001b[39m\u001b[0m#\u001b[39m\u001b[0m#\u001b[39m\u001b[0m#\u001b[39m\u001b[0m#\u001b[39m\u001b[0m#\u001b[39m\u001b[0m#\u001b[39m\u001b[0m#\u001b[39m\u001b[0m#\u001b[39m\u001b[0m#\u001b[39m\u001b[0m#\u001b[39m\u001b[0m#\u001b[39m\u001b[0m#\u001b[39m\u001b[0m#\u001b[39m\u001b[0m#\u001b[39m\u001b[0m#\u001b[39m\u001b[0m#\u001b[39m\u001b[0m#\u001b[39m\u001b[0m#\u001b[39m\u001b[0m#\u001b[39m\u001b[0m#\u001b[39m\u001b[0m#\u001b[39m\u001b[0m#\u001b[39m\u001b[0m#\u001b[39m\u001b[0m#\u001b[39m\u001b[0m#\u001b[39m\u001b[0m#\u001b[39m\u001b[0m#\u001b[39m\u001b[0m#\u001b[39m\u001b[0m#\u001b[39m\u001b[0m#\u001b[39m\u001b[0m#\u001b[39m\u001b[0m#\u001b[39m\u001b[0m#\u001b[39m\u001b[0m#\u001b[39m\u001b[0m#\u001b[39m\u001b[0m#\u001b[39m\u001b[0m#\u001b[39m\u001b[0m#\u001b[39m\u001b[0m#\u001b[39m\u001b[0m\n",
      "\u001b[39m\u001b[0m\u001b[94m\tDONE      :     4\n",
      "\u001b[39m\u001b[0m\u001b[92m                                                                              ok\n",
      "\u001b[39m\u001b[0m"
     ]
    },
    {
     "name": "stdout",
     "output_type": "stream",
     "text": [
      "--- task.000088:\n",
      "0 : PID     : 27364\n",
      "0 : NODE    : rivendell\n",
      "0 : CPUS    : 1111111111111111\n",
      "0 : GPUS    : 00\n",
      "0 : RANK    : 0\n",
      "0 : THREADS : 1\n",
      "0 : SLEEP   : 0\n",
      "\n",
      "--- task.000089:\n",
      "1 : PID     : 27579\n",
      "1 : NODE    : rivendell\n",
      "1 : CPUS    : 1111111111111111\n",
      "1 : GPUS    : 00\n",
      "1 : RANK    : 1\n",
      "1 : THREADS : 1\n",
      "1 : SLEEP   : 0\n",
      "0 : PID     : 27563\n",
      "0 : NODE    : rivendell\n",
      "0 : CPUS    : 1111111111111111\n",
      "0 : GPUS    : 00\n",
      "0 : RANK    : 0\n",
      "0 : THREADS : 1\n",
      "0 : SLEEP   : 0\n",
      "\n",
      "--- task.000090:\n",
      "0 : PID     : 27676\n",
      "0 : NODE    : rivendell\n",
      "0 : CPUS    : 1111111111111111\n",
      "0 : GPUS    : 00\n",
      "0 : RANK    : 0\n",
      "0 : THREADS : 1\n",
      "0 : SLEEP   : 0\n",
      "2 : PID     : 27669\n",
      "2 : NODE    : rivendell\n",
      "2 : CPUS    : 1111111111111111\n",
      "2 : GPUS    : 00\n",
      "2 : RANK    : 2\n",
      "2 : THREADS : 1\n",
      "2 : SLEEP   : 0\n",
      "1 : PID     : 27670\n",
      "1 : NODE    : rivendell\n",
      "1 : CPUS    : 1111111111111111\n",
      "1 : GPUS    : 00\n",
      "1 : RANK    : 1\n",
      "1 : THREADS : 1\n",
      "1 : SLEEP   : 0\n",
      "\n",
      "--- task.000091:\n",
      "1 : PID     : 27425\n",
      "0 : PID     : 27417\n",
      "0 : NODE    : rivendell\n",
      "0 : CPUS    : 1111111111111111\n",
      "0 : GPUS    : 00\n",
      "0 : RANK    : 0\n",
      "0 : THREADS : 1\n",
      "0 : SLEEP   : 0\n",
      "1 : NODE    : rivendell\n",
      "1 : CPUS    : 1111111111111111\n",
      "1 : GPUS    : 00\n",
      "1 : RANK    : 1\n",
      "1 : THREADS : 1\n",
      "1 : SLEEP   : 0\n",
      "3 : PID     : 27469\n",
      "3 : NODE    : rivendell\n",
      "3 : CPUS    : 1111111111111111\n",
      "3 : GPUS    : 00\n",
      "3 : RANK    : 3\n",
      "3 : THREADS : 1\n",
      "3 : SLEEP   : 0\n",
      "2 : PID     : 27513\n",
      "2 : NODE    : rivendell\n",
      "2 : CPUS    : 1111111111111111\n",
      "2 : GPUS    : 00\n",
      "2 : RANK    : 2\n",
      "2 : THREADS : 1\n",
      "2 : SLEEP   : 0\n",
      "\n"
     ]
    }
   ],
   "source": [
    "pwd = os.getcwd()\n",
    "tds = list()\n",
    "for n in range(4):\n",
    "    tds.append(rp.TaskDescription({'executable': pwd + '/../../../bin/radical-pilot-hello.sh',\n",
    "                                   'ranks': (n + 1)}))\n",
    "    report.progress()\n",
    "\n",
    "report.progress_done()\n",
    "\n",
    "tasks = tmgr.submit_tasks(tds)\n",
    "tmgr.wait_tasks([task.uid for task in tasks])\n",
    "\n",
    "for task in tasks:\n",
    "    print('--- %s:\\n%s\\n' % (task.uid, task.stdout.strip()))\n"
   ]
  },
  {
   "cell_type": "code",
   "execution_count": 19,
   "id": "9c914fc2",
   "metadata": {
    "pycharm": {
     "name": "#%%\n"
    }
   },
   "outputs": [
    {
     "name": "stderr",
     "output_type": "stream",
     "text": [
      "\u001b[93m\u001b[1m\n",
      "\u001b[39m\u001b[0m\u001b[93m\u001b[1m--------------------------------------------------------------------------------\n",
      "\u001b[39m\u001b[0m\u001b[93m\u001b[1mfinalize                                                                        \n",
      "\u001b[39m\u001b[0m\u001b[93m\u001b[1m\n",
      "\u001b[39m\u001b[0m"
     ]
    }
   ],
   "source": [
    "report.header('finalize')\n",
    "# session.close()"
   ]
  }
 ],
 "metadata": {
  "kernelspec": {
   "display_name": "Python 3",
   "language": "python",
   "name": "python3"
  },
  "language_info": {
   "codemirror_mode": {
    "name": "ipython",
    "version": 3
   },
   "file_extension": ".py",
   "mimetype": "text/x-python",
   "name": "python",
   "nbconvert_exporter": "python",
   "pygments_lexer": "ipython3",
   "version": "3.6.9"
  },
  "varInspector": {
   "cols": {
    "lenName": 16,
    "lenType": 16,
    "lenVar": 40
   },
   "kernels_config": {
    "python": {
     "delete_cmd_postfix": "",
     "delete_cmd_prefix": "del ",
     "library": "var_list.py",
     "varRefreshCmd": "print(var_dic_list())"
    },
    "r": {
     "delete_cmd_postfix": ") ",
     "delete_cmd_prefix": "rm(",
     "library": "var_list.r",
     "varRefreshCmd": "cat(var_dic_list()) "
    }
   },
   "types_to_exclude": [
    "module",
    "function",
    "builtin_function_or_method",
    "instance",
    "_Feature"
   ],
   "window_display": false
  }
 },
 "nbformat": 4,
 "nbformat_minor": 5
}
