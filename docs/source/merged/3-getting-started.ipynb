{
 "cells": [
  {
   "cell_type": "markdown",
   "id": "67521807",
   "metadata": {},
   "source": [
    "# Getting Started\n",
    "\n",
    "This notebook offers a walkthrough example of how to run RADICAL-Pilot on a local linux machine. The tutorial includes an example of how to execute a simple workload of identical tasks, i.e., a _bag of tasks_.\n",
    "\n",
    "## Activate your environment\n",
    "\n",
    "RADICAL.Pilot required to be executed into a dedicated virtual environment. You can create such an environment with the commands `virtualenv`, `venv` or `conda`. For more details see TODO: add internal reference. Here we activate a virtual environment that we have already created.\n",
    "\n",
    "```shell\n",
    "# replace the virtualenv path with the correct path for your system\n",
    "source ~/.virtualenvs/radical-pilot-env/bin/activate\n",
    "```\n",
    "\n",
    "## Requiered environement variables\n",
    "\n",
    "RADICAL-Pilot requires a MongoDB server and looks for the environment variable `RADICAL_PILOT_DBURL`. If that variable is not set, RADICAL-Pilot will fail and exit. You can set `RADICAL_PILOT_DBURL` in the shell from which you will execute your RADICAL-Pilot application--e.g., `export RADICAL_PILOT_DBURL=` or you can write your variable key/value \n",
    "\n",
    "Loading the environment variables from .env file. To read on how to setup .env for RP see this. `RADICAL_PILOT_DBURL` is required in .env file for RP to work."
   ]
  },
  {
   "cell_type": "code",
   "execution_count": null,
   "id": "f9f1ff4e",
   "metadata": {},
   "outputs": [],
   "source": [
    "%load_ext dotenv\n",
    "%dotenv ../../../.env"
   ]
  },
  {
   "cell_type": "code",
   "execution_count": null,
   "id": "af8cb793",
   "metadata": {},
   "outputs": [],
   "source": [
    "!radical-stack"
   ]
  },
  {
   "cell_type": "code",
   "execution_count": null,
   "id": "c8b8387d",
   "metadata": {},
   "outputs": [],
   "source": [
    "import os\n",
    "import sys\n",
    "import pprint\n",
    "\n",
    "import radical.pilot as rp\n",
    "import radical.utils as ru\n"
   ]
  },
  {
   "cell_type": "markdown",
   "id": "226a0cfc",
   "metadata": {},
   "source": [
    "## Configuration Files\n",
    "\n",
    "The examples encoded in this notebook target `localhost` as execution resource, but they can also run on other resources for which we have pre-configured some relevant values.  We load those configuration options here:"
   ]
  },
  {
   "cell_type": "code",
   "execution_count": null,
   "id": "c7747e0d",
   "metadata": {
    "pycharm": {
     "name": "#%%\n"
    }
   },
   "outputs": [],
   "source": [
    "from dotenv import load_dotenv\n",
    "load_dotenv()\n",
    "\n",
    "RADICAL_PILOT_DBURL = os.getenv(\"RADICAL_PILOT_DBURL\")\n",
    "\n",
    "resource = 'local.localhost'\n",
    "config = ru.read_json('../config.json')\n",
    "pprint.pprint(config, width=1)"
   ]
  },
  {
   "cell_type": "markdown",
   "id": "97ab1560",
   "metadata": {},
   "source": [
    "\n",
    "### Reporter for a better visualization\n",
    "All code examples of this guide use the reporter facility of RADICAL-Utils to print well formatted runtime and progress information. You can control that output with the `RADICAL_REPORT` variable, which can be set to `TRUE` or `FALSE` to enable / disable reporter output. We assume the setting to be TRUE when referencing any output in this chapter.\n",
    "\n",
    "**NOTE:** noteboks don't handle ANSII-Escape sequences very well - you may want to disable reporter animations with the following setting in you `.env`:\n",
    "\n",
    "    export RADICAL_REPORT_ANIME=False"
   ]
  },
  {
   "cell_type": "code",
   "execution_count": null,
   "id": "7e4566d0",
   "metadata": {
    "scrolled": true
   },
   "outputs": [],
   "source": [
    "report = ru.Reporter(name='radical.pilot')\n",
    "report.title('Getting Started (RP version %s)' % rp.version)"
   ]
  },
  {
   "cell_type": "markdown",
   "id": "51c58bcd",
   "metadata": {},
   "source": [
    "### Setting up the session\n",
    "\n",
    "A `rp.Session` is the root object for all other objects in RADICAL-Pilot.  The session ID is used to uniquely identify the application run.  That ID will, for example, be used to create a session sandbox in the current wrking directory into which logfiles etc. will be stored. \n",
    "\n",
    "**NOTE:** It is important to close the session at the end of the application's execution: \n",
    "\n",
    "    session.close()\n",
    "\n",
    "For one, that will terminate a number of local processes the session spawns to manage large workloads.  But also, and possibly more importantly, that will terminate all pilots of that session.  If you fail to terminate those pilots, they will still execute and allocate resources, and even though those resources idle that will count against your allocation on that resource.  Both processes and pilots will eventually time out - but that might take quite a bit of time."
   ]
  },
  {
   "cell_type": "code",
   "execution_count": null,
   "id": "0a2c8f8a",
   "metadata": {},
   "outputs": [],
   "source": [
    "session = rp.Session()"
   ]
  },
  {
   "cell_type": "markdown",
   "id": "43dc96dd",
   "metadata": {},
   "source": [
    "A `rp.PilotManager` will, as the name suggests, manage the pilot instances the application will use, and the `rp.TaskManager` will manage the application tasks to be executed.  Both manager instances are attached to the Session, and their lifetime is controlled by the session."
   ]
  },
  {
   "cell_type": "code",
   "execution_count": null,
   "id": "f6447a38",
   "metadata": {},
   "outputs": [],
   "source": [
    "pmgr = rp.PilotManager(session=session)\n",
    "tmgr = rp.TaskManager(session=session)"
   ]
  },
  {
   "cell_type": "markdown",
   "id": "b36f1a88",
   "metadata": {
    "pycharm": {
     "name": "#%% md\n"
    }
   },
   "source": [
    "### Setting up a Pilot\n",
    "\n",
    "RP applications allocate resources by submitting a pilot job to the target resource.  That is usually an HPC cluster, but in these examples we will run the pilot on localhost.  We first describe that resource allocation request in the `rp.PilotDescription`, and then will request the pilot to be launched by the `rp.PilotManager` which we instantiated above.\n",
    "\n",
    "### Pilot resource specification\n",
    "\n",
    "A `rp.PilotDescription` is used to specify the type and number of resources (CPU cores and GPUs) to allocate, and also what project is to be used for accounting, for how long the resources are requested, etc.  We use the values from the configuration loaded above - feel free to set your own values!\n",
    "\n",
    "The most important elements of the PilotDescription are:\n",
    "\n",
    "  - `resource`: a label which specifies the target resource, either local or remote, on which to run the pilot;\n",
    "  - `runtime`: the numbers of minutes the pilot is expected to be active, i.e., the runtime of the pilot.\n",
    "  - `cores`: the number of CPU cores the pilot is expected to manage, i.e., the size of the pilot;\n",
    "  - `gpus`: the number of GPUs the pilot is expected to manage;"
   ]
  },
  {
   "cell_type": "code",
   "execution_count": null,
   "id": "af23b817",
   "metadata": {},
   "outputs": [],
   "source": [
    "pd_init = {\n",
    "               'resource'      : resource,\n",
    "               'runtime'       : 15,  # pilot runtime (min)\n",
    "               'exit_on_error' : True,\n",
    "               'project'       : config[resource].get('project', None),\n",
    "               'queue'         : config[resource].get('queue', None),\n",
    "               'access_schema' : config[resource].get('schema', None),\n",
    "               'cores'         : config[resource].get('cores', 1),\n",
    "               'gpus'          : config[resource].get('gpus', 0),\n",
    "              }\n",
    "pdesc = rp.PilotDescription(pd_init)"
   ]
  },
  {
   "cell_type": "markdown",
   "id": "6cf8aca1",
   "metadata": {},
   "source": [
    "### Launching the Pilot\n",
    "\n",
    "Pilots are launched via a `rp.PilotManager`, by passing the `rp.PilotDescription` to the `submit_pilots()` method. To make use of the pilot, we register it with the task manager which then can use it for task execution  (you can add any number of pilots to the task manager)."
   ]
  },
  {
   "cell_type": "code",
   "execution_count": null,
   "id": "929decb5",
   "metadata": {},
   "outputs": [],
   "source": [
    "pilot = pmgr.submit_pilots(pdesc)\n",
    "tmgr.add_pilots(pilot)"
   ]
  },
  {
   "cell_type": "markdown",
   "id": "1ce411cb",
   "metadata": {},
   "source": [
    "### Task execution\n",
    "\n",
    "At this point we have the system set up and ready to execute tasks.  Well, in fact the pilot job may still be waiting in a batch queue, or the pilot job's bootstrapper may still prepare the pilot virtualenv when starting the pilot job - but either way, we can begin to submit tasks to the `TaskManager` for execution.\n",
    "\n",
    "Similar to the pilot submission, we create an `rp.TaskDescription` for each task we want to execute.  That description specifies what we want to execute as a task, how to execute it, what resources it needs, etc.  For now, we submit a number (128) trivial `/bin/date` executable which runs on a single core:"
   ]
  },
  {
   "cell_type": "code",
   "execution_count": null,
   "id": "1ba782cd",
   "metadata": {},
   "outputs": [],
   "source": [
    "report.progress_tgt(16, label='create')\n",
    "\n",
    "tds = list()\n",
    "for _ in range(16):\n",
    "    tds.append(rp.TaskDescription({'executable': '/bin/date'}))\n",
    "    report.progress()\n",
    "\n",
    "report.progress_done()\n",
    "\n",
    "tasks = tmgr.submit_tasks(tds)\n"
   ]
  },
  {
   "cell_type": "markdown",
   "id": "03112275",
   "metadata": {},
   "source": [
    "The tasks will now be scheduled for execution on the pilot we created above.  We now wait for the tasks to complete, i.e., to reach one of the final states `DONE`, `CANCELED` or `FAILED`.  Unless instructed otherwise, `tmgr.wait_tasks()` will wait for all tasks known to that task manager:"
   ]
  },
  {
   "cell_type": "code",
   "execution_count": null,
   "id": "5f2ea29b",
   "metadata": {},
   "outputs": [],
   "source": [
    "tmgr.wait_tasks()"
   ]
  },
  {
   "cell_type": "markdown",
   "id": "9efbbe7a",
   "metadata": {},
   "source": [
    "Once completed, we can inspect the tasks for details of their execution: we print a summary for all tasks and then inspect one of them in a bit more detail:"
   ]
  },
  {
   "cell_type": "code",
   "execution_count": null,
   "id": "e7a7d0ac",
   "metadata": {},
   "outputs": [],
   "source": [
    "for task in tasks:\n",
    "    report.plain('  * %s: %s, exit: %3s, out: %s'\n",
    "                % (task.uid, task.state[:4], task.exit_code, task.stdout[:35]))\n",
    "\n",
    "report.plain('\\n')\n",
    "\n",
    "report.plain('uid             : %s\\n' % task.uid)\n",
    "report.plain('tmgr            : %s\\n' % task.tmgr.uid)\n",
    "report.plain('pilot           : %s\\n' % task.pilot)\n",
    "report.plain('name            : %s\\n' % task.name)\n",
    "report.plain('executable      : %s\\n' % task.description['executable'])\n",
    "report.plain('state           : %s\\n' % task.state)\n",
    "report.plain('exit_code       : %s\\n' % task.exit_code)\n",
    "report.plain('stdout          : %s\\n' % task.stdout.strip())\n",
    "report.plain('stderr          : %s\\n' % task.stderr)\n",
    "report.plain('return_value    : %s\\n' % task.return_value)\n",
    "report.plain('exception       : %s\\n' % task.exception)\n",
    "report.plain('\\n')\n",
    "report.plain('endpoint_fs     : %s\\n' % task.endpoint_fs)\n",
    "report.plain('resource_sandbox: %s\\n' % task.resource_sandbox)\n",
    "report.plain('session_sandbox : %s\\n' % task.session_sandbox)\n",
    "report.plain('pilot_sandbox   : %s\\n' % task.pilot_sandbox)\n",
    "report.plain('task_sandbox    : %s\\n' % task.task_sandbox)\n",
    "report.plain('client_sandbox  : %s\\n' % task.client_sandbox)\n",
    "\n"
   ]
  },
  {
   "cell_type": "markdown",
   "id": "80415b6c",
   "metadata": {},
   "source": [
    "Not all tasks will usually succeed when executing - be it for internal errors (a simulation ran into an invalid condition), or because a compute node went down, etc.  Let's submit a new set of tasks and inspect the failure modes: we will scan `/bin/date` for acceptable single letter arguments:"
   ]
  },
  {
   "cell_type": "code",
   "execution_count": null,
   "id": "32c95d9a",
   "metadata": {},
   "outputs": [],
   "source": [
    "import string\n",
    "letters = string.ascii_lowercase + string.ascii_uppercase\n",
    "\n",
    "report.progress_tgt(len(letters), label='create')\n",
    "\n",
    "tds = list()\n",
    "for letter in letters:\n",
    "    tds.append(rp.TaskDescription({'executable': '/bin/date',\n",
    "                                   'arguments': ['-' + letter]}))\n",
    "    report.progress()\n",
    "\n",
    "report.progress_done()\n",
    "\n",
    "tasks = tmgr.submit_tasks(tds)"
   ]
  },
  {
   "cell_type": "markdown",
   "id": "187dbca6",
   "metadata": {},
   "source": [
    "This time we wait only for the newly submitted tasks and check which ones succeeded - for those we check the resulting output."
   ]
  },
  {
   "cell_type": "code",
   "execution_count": null,
   "id": "fa13837b",
   "metadata": {},
   "outputs": [],
   "source": [
    "tmgr.wait_tasks([task.uid for task in tasks])\n",
    "\n",
    "for task in tasks:\n",
    "    if task.state == rp.DONE:\n",
    "        print('%s: %s: %s' % (task.uid, task.description['arguments'], task.stdout.strip()))\n"
   ]
  },
  {
   "cell_type": "markdown",
   "id": "29c8c3cb",
   "metadata": {},
   "source": [
    "## Handle Failing Tasks\n",
    "\n",
    "All applications can fail, often for reasons out of control of the user. A Task is no different, it can fail as well. Many non-trivial application will need to have a way to handle failing tasks – detecting the failure is the first and necessary step to do so, and RP makes that part easy: RP’s task state model defines that a failing task will immediately go into FAILED state, and that state information is available as task.state property.\n",
    "\n",
    "The task also has the task.stderr property available for further inspection into causes of the failure – that will only be available though if the task did reach the EXECUTING state in the first place.\n"
   ]
  },
  {
   "cell_type": "code",
   "execution_count": null,
   "id": "480544e8",
   "metadata": {},
   "outputs": [],
   "source": [
    "report.info('create %d task description(s)\\n\\t' % 10)\n",
    "\n",
    "tds = list()\n",
    "for i in range(0, 10):\n",
    "\n",
    "    td = rp.TaskDescription()\n",
    "    if i % 2:\n",
    "        td.executable = '/bin/date'\n",
    "    else:\n",
    "        # trigger an error now and then\n",
    "        td.executable = '/bin/data'  # does not exist\n",
    "    tds.append(td)\n",
    "    report.progress()\n",
    "\n",
    "report.ok('>>ok\\n')\n",
    "\n",
    "tasks = tmgr.submit_tasks(tds)\n",
    "\n",
    "report.header('gather results')\n",
    "tmgr.wait_tasks()\n",
    "\n",
    "\n",
    "report.info('\\n')\n",
    "for task in tasks:\n",
    "    if task.state in [rp.FAILED, rp.CANCELED]:\n",
    "        report.plain('  * %s: %s, exit: %5s, err: -%35s-'\n",
    "                    % (task.uid, task.state[:4],\n",
    "                       task.exit_code, task.stderr))\n",
    "        report.error('>>err\\n')\n",
    "\n",
    "    else:\n",
    "        report.plain('  * %s: %s, exit: %5s, out: %35s'\n",
    "                    % (task.uid, task.state[:4],\n",
    "                       task.exit_code, task.stdout))\n",
    "        report.ok('>>ok\\n')\n"
   ]
  },
  {
   "cell_type": "markdown",
   "id": "80df830a",
   "metadata": {},
   "source": [
    "## Use Multiple Pilots\n",
    "\n",
    "We have seen in the previous examples how an RP pilot acts as a container for multiple task executions. There is in principle no limit on how many of those pilots are used to execute a specific workload, and specifically, pilots don’t need to run on the same resource!\n",
    "\n",
    "The below example demonstrates that. Instead of creating one pilot description, we here create one for any resource specified as command line parameter, no matter if those parameters point to the same resource targets or not.\n",
    "The tasks are distributed over the created set of pilots according to some scheduling mechanism – section Selecting a Task Scheduler will discuss how an application can choose between different scheduling policies. The default policy used here is Round Robin."
   ]
  },
  {
   "cell_type": "code",
   "execution_count": null,
   "id": "e430dbf5",
   "metadata": {},
   "outputs": [],
   "source": [
    "pdescs = list()\n",
    "pdescs.append(pdesc)\n",
    "pdescs.append(pdesc)\n",
    "pilots = pmgr.submit_pilots(pdescs)\n",
    "\n",
    "tmgr.add_pilots(pilots)\n",
    "\n",
    "\n",
    "tmgr = rp.TaskManager(session=session)\n",
    "tmgr.add_pilots(pilots)\n",
    "\n",
    "n = 10\n",
    "report.info('create %d task description(s)\\n\\t' % n)\n",
    "\n",
    "tds = list()\n",
    "for i in range(0, n):\n",
    "    td = rp.TaskDescription()\n",
    "    td.executable = '/bin/echo'\n",
    "    td.arguments  = ['$RP_PILOT_ID']\n",
    "\n",
    "    tds.append(td)\n",
    "    report.progress()\n",
    "report.ok('>>ok\\n')\n",
    "tasks = tmgr.submit_tasks(tds)\n",
    "report.header('gather results')\n",
    "tmgr.wait_tasks()\n",
    "\n"
   ]
  },
  {
   "cell_type": "code",
   "execution_count": null,
   "id": "46def43e",
   "metadata": {},
   "outputs": [],
   "source": [
    "counts = dict()\n",
    "for task in tasks:\n",
    "    out_str = task.stdout.strip()[:35]\n",
    "    report.plain('  * %s: %s, exit: %3s, out: %s\\n'\n",
    "            % (task.uid, task.state[:4],\n",
    "                task.exit_code, out_str))\n",
    "    if out_str not in counts:\n",
    "        counts[out_str] = 0\n",
    "    counts[out_str] += 1\n",
    "\n",
    "report.info(\"\\n\")\n",
    "for out_str in counts:\n",
    "    report.info(\"  * %-20s: %3d\\n\" % (out_str, counts[out_str]))\n",
    "report.info(\"  * %-20s: %3d\\n\" % ('total', sum(counts.values())))\n"
   ]
  },
  {
   "cell_type": "markdown",
   "id": "2e466b67",
   "metadata": {},
   "source": [
    "### MPI Tasks and Task Resources\n",
    "\n",
    "In the examples we have, so far, been running single-core tasks.  By expanding the task description to include the `ranks` attribute, we can request multiple MPI ranks to be created where each rank uses one core.  Additional resource requirements can be specified per rank:\n",
    "\n",
    "  - `cores_per_rank`: the number of cores each rank can user for spawning additional threads or processes\n",
    "  - `gpus_per_rank`: the number of GPUs each rank can utilize\n",
    "  - `mem_per_rank`: the size of memory (in Megabytes) which is available to each rank\n",
    "  - `lfs_per_rank`: the amount of node-local file storage which is available to each rank\n",
    "\n",
    "We use the `radical-pilot-hello.sh` command to report on rank creation:"
   ]
  },
  {
   "cell_type": "code",
   "execution_count": null,
   "id": "9047b209",
   "metadata": {},
   "outputs": [],
   "source": [
    "tds = list()\n",
    "for n in range(4):\n",
    "    tds.append(rp.TaskDescription({'executable': '../../../bin/radical-pilot-hello.sh',\n",
    "                                   'ranks': (n + 1)}))\n",
    "    report.progress()\n",
    "\n",
    "report.progress_done()\n",
    "\n",
    "tasks = tmgr.submit_tasks(tds)\n",
    "tmgr.wait_tasks([task.uid for task in tasks])\n",
    "\n",
    "for task in tasks:\n",
    "    print('--- %s:\\n%s\\n' % (task.uid, task.stdout.strip()))\n"
   ]
  },
  {
   "cell_type": "code",
   "execution_count": null,
   "id": "9c914fc2",
   "metadata": {
    "pycharm": {
     "name": "#%%\n"
    }
   },
   "outputs": [],
   "source": [
    "report.header('finalize')\n",
    "# session.close()"
   ]
  }
 ],
 "metadata": {
  "kernelspec": {
   "display_name": "Python 3 (ipykernel)",
   "language": "python",
   "name": "python3"
  },
  "language_info": {
   "codemirror_mode": {
    "name": "ipython",
    "version": 3
   },
   "file_extension": ".py",
   "mimetype": "text/x-python",
   "name": "python",
   "nbconvert_exporter": "python",
   "pygments_lexer": "ipython3",
   "version": "3.10.6"
  },
  "varInspector": {
   "cols": {
    "lenName": 16,
    "lenType": 16,
    "lenVar": 40
   },
   "kernels_config": {
    "python": {
     "delete_cmd_postfix": "",
     "delete_cmd_prefix": "del ",
     "library": "var_list.py",
     "varRefreshCmd": "print(var_dic_list())"
    },
    "r": {
     "delete_cmd_postfix": ") ",
     "delete_cmd_prefix": "rm(",
     "library": "var_list.r",
     "varRefreshCmd": "cat(var_dic_list()) "
    }
   },
   "types_to_exclude": [
    "module",
    "function",
    "builtin_function_or_method",
    "instance",
    "_Feature"
   ],
   "window_display": false
  }
 },
 "nbformat": 4,
 "nbformat_minor": 5
}
