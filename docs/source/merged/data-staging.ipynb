{
 "cells": [
  {
   "cell_type": "markdown",
   "metadata": {},
   "source": [
    "### Running the Example"
   ]
  },
  {
   "cell_type": "markdown",
   "metadata": {},
   "source": [
    "Below is an example application which uses the above code block. It otherwise does not differ from our earlier examples (but only adds on-th-fly creation of input.dat).\n",
    "\n",
    "The result of this example’s execution is straight forward, as expected, but proves that the file staging happened as planned. You will likely notice though that the code runs significantly longer than earlier ones, because of the file staging overhead."
   ]
  },
  {
   "cell_type": "markdown",
   "metadata": {},
   "source": [
    "We start by importing the radical.pilot module and initializing the reporter facility used for printing well formatted runtime and progress information."
   ]
  },
  {
   "cell_type": "code",
   "execution_count": null,
   "metadata": {
    "pycharm": {
     "name": "#%%\n"
    }
   },
   "outputs": [],
   "source": [
    "import os\n",
    "import sys\n",
    "\n",
    "verbose  = os.environ.get('RADICAL_PILOT_VERBOSE', 'REPORT')\n",
    "os.environ['RADICAL_PILOT_VERBOSE'] = verbose\n",
    "\n",
    "import radical.pilot as rp\n",
    "import radical.utils as ru\n",
    "\n",
    "report = ru.Reporter(name='radical.pilot')\n",
    "report.title('Getting Started (RP version %s)' % rp.version)"
   ]
  },
  {
   "cell_type": "markdown",
   "metadata": {},
   "source": [
    "We will now import the dotenv module for fetching our environment variables. To create a new Session, you need to provide the URL of a MongoDB server which we will fetch from our .env file.\n",
    "\n",
    "We will set the resource value to 'local.localhost'. Using a resource key other than local.localhost implicitly tells RADICAL-Pilot that it is targeting a remote resource."
   ]
  },
  {
   "cell_type": "code",
   "execution_count": null,
   "metadata": {
    "pycharm": {
     "name": "#%%\n"
    }
   },
   "outputs": [],
   "source": [
    "from dotenv import load_dotenv\n",
    "load_dotenv()\n",
    "\n",
    "resource = 'local.localhost'\n",
    "session = rp.Session()"
   ]
  },
  {
   "cell_type": "markdown",
   "metadata": {},
   "source": [
    "All other pilot code is now tried/excepted. If an exception is caught, we can rely on the session object to exist and be valid, and we can thus tear the whole RP stack down via a <i>'session.close()'</i> call in the <i>'finally'</i> clause."
   ]
  },
  {
   "cell_type": "code",
   "execution_count": null,
   "metadata": {
    "pycharm": {
     "name": "#%%\n"
    }
   },
   "outputs": [],
   "source": [
    "def get_pilot_description(resource):\n",
    "    report.info('read config')\n",
    "    config = ru.read_json('../config.json')\n",
    "    report.ok('>>ok\\n')\n",
    "    report.header('submit pilots')\n",
    "    pdescs = list()\n",
    "    pd_init = {\n",
    "               'resource'      : resource,\n",
    "               'runtime'       : 15,  # pilot runtime (min)\n",
    "               'exit_on_error' : True,\n",
    "               'project'       : config[resource].get('project', None),\n",
    "               'queue'         : config[resource].get('queue', None),\n",
    "               'access_schema' : config[resource].get('schema', None),\n",
    "               'cores'         : config[resource].get('cores', 1),\n",
    "               'gpus'          : config[resource].get('gpus', 0),\n",
    "              }\n",
    "    pdesc = rp.PilotDescription(pd_init)\n",
    "    return pdesc"
   ]
  },
  {
   "cell_type": "markdown",
   "metadata": {},
   "source": [
    "In this function, we first register the pilot in a TaskManager object. We then create a workload of char-counting a simple file. For this we create a the file right here and then use it as task input data for each task.\n",
    "\n",
    "After this we initialize the number of tasks(n=128) and create a new Task description.\n",
    "We submit the previously created Task descriptions to the PilotManager. This will trigger the selected scheduler to start assigning Tasks to the Pilots."
   ]
  },
  {
   "cell_type": "markdown",
   "metadata": {},
   "source": [
    "## Staging Task Input Data"
   ]
  },
  {
   "cell_type": "markdown",
   "metadata": {},
   "source": [
    "The vast majority of applications operate on data, and many of those read input data from files. Since RP provides an abstraction above the resource layer, it can run a task on any pilot the application created (see Selecting a Task Scheduler). To ensure that the task finds the data it needs on the resource where it runs, RP provides a mechanism to stage input data automatically.\n",
    "\n",
    "For each task, the application can specify\n",
    " - source: what data files need to be staged;\n",
    " - target: what should the path be in the context of the task execution;\n",
    " - action: how should data be staged.\n",
    "\n",
    "If <i>source</i> and <i>target</i> file names are the same, and if action is the default rp.TRANSFER, then you can simply specify task input data by giving a list of file names (we’ll discuss more complex staging directives in a later example):\n",
    "\n"
   ]
  },
  {
   "cell_type": "markdown",
   "metadata": {},
   "source": [
    "```python\n",
    "cud = rp.TaskDescription()\n",
    "cud.executable     = '/usr/bin/wc'\n",
    "cud.arguments      = ['-c', 'input.dat']\n",
    "cud.input_staging  = ['input.dat']\n",
    "```"
   ]
  },
  {
   "cell_type": "code",
   "execution_count": null,
   "metadata": {
    "pycharm": {
     "name": "#%%\n"
    }
   },
   "outputs": [],
   "source": [
    "def submit_input_staging_tasks(tmgr):\n",
    "    report.header('submit tasks')\n",
    "\n",
    "    os.system('hostname >  input.dat')\n",
    "    os.system('date     >> input.dat')\n",
    "\n",
    "    n = 10\n",
    "    report.info('create %d task description(s)\\n\\t' % n)\n",
    "\n",
    "    tds = list()\n",
    "    for i in range(0, n):\n",
    "        td = rp.TaskDescription()\n",
    "        td.executable     = '/usr/bin/wc'\n",
    "        td.arguments      = ['-c', 'input.dat']\n",
    "        td.input_staging  = {'source': 'client:///input.dat',\n",
    "                             'target': 'task:///input.dat',\n",
    "                             'action': rp.TRANSFER}\n",
    "        tds.append(td)\n",
    "        report.progress()\n",
    "    report.ok('>>ok\\n')\n",
    "    tasks = tmgr.submit_tasks(tds)\n",
    "\n",
    "    report.header('gather results')\n",
    "    tmgr.wait_tasks()\n",
    "    os.system('rm input.dat')\n",
    "    return tasks\n"
   ]
  },
  {
   "cell_type": "markdown",
   "metadata": {},
   "source": [
    "## Staging Task Output Data"
   ]
  },
  {
   "cell_type": "markdown",
   "metadata": {},
   "source": [
    "Upon completion, tasks often create some amount of data. We have seen in Obtaining Task Details how we can inspect the task’s stdout string, but that will not be useful beyond the most trivial workloads. This section shows how to stage the output data of tasks back to the RP application, and/or to arbitrary storage locations and devices.\n",
    "\n",
    "In principle, output staging is specified as the input staging discussed in the previous section:\n",
    "\n",
    " - source: what files need to be staged from the context of the task that terminated execution\n",
    " - target: where should the files be staged to\n",
    " - action: how should files be staged.\n",
    "\n",
    "Note that in this example we specify the output file name to be changed to a unique name during staging:"
   ]
  },
  {
   "cell_type": "markdown",
   "metadata": {},
   "source": [
    "```python\n",
    "\n",
    "for i in range(0, n):\n",
    "    cud.executable     = '/bin/cp'\n",
    "    cud.arguments      = ['-v', 'input.dat', 'output.dat']\n",
    "    cud.input_staging  = ['input.dat']\n",
    "    cud.output_staging = {'source': 'output.dat',\n",
    "                          'target': 'output_%03d.dat' % i,\n",
    "                          'action': rp.TRANSFER}\n",
    "```"
   ]
  },
  {
   "cell_type": "markdown",
   "metadata": {},
   "source": [
    "In the <i>submit_tasks</i> function, we first register the pilot in a TaskManager object. We then create a workload of char-counting a simple file. For this we create a the file right here and then use it as task input data for each task.\n",
    "\n",
    "After this we initialize the number of tasks(n=128) and create a new Task description. We submit the previously created Task descriptions to the PilotManager. This will trigger the selected scheduler to start assigning Tasks to the Pilots.\n",
    "\n",
    "We will use ```tmgr.wait_tasks()```to wait for all tasks to reach a final (DONE, CANCELED or FAILED)."
   ]
  },
  {
   "cell_type": "code",
   "execution_count": null,
   "metadata": {
    "pycharm": {
     "name": "#%%\n"
    }
   },
   "outputs": [],
   "source": [
    "def submit_tasks(tmgr):\n",
    "    report.header('submit tasks')\n",
    "\n",
    "    os.system('hostname >  /tmp/input.dat')\n",
    "    os.system('date     >> /tmp/input.dat')\n",
    "\n",
    "    n = 128\n",
    "    report.info('create %d task description(s)\\n\\t' % n)\n",
    "\n",
    "    tds = list()\n",
    "    for i in range(0, n):\n",
    "        td = rp.TaskDescription()\n",
    "        td.executable     = '/bin/cp'\n",
    "        td.arguments      = ['-v', 'input.dat', 'output.dat']\n",
    "        td.input_staging  = ['/tmp/input.dat']\n",
    "        td.output_staging = {'source': 'task:///output.dat',\n",
    "                              'target': 'client:///output_%03d.dat' % i,\n",
    "                              'action': rp.TRANSFER}\n",
    "\n",
    "        tds.append(td)\n",
    "        report.progress()\n",
    "    report.ok('>>ok\\n')\n",
    "\n",
    "    tasks = tmgr.submit_tasks(tds)\n",
    "\n",
    "    report.header('gather results')\n",
    "    tmgr.wait_tasks()\n",
    "    return tasks"
   ]
  },
  {
   "cell_type": "markdown",
   "metadata": {},
   "source": [
    "We create the <i>report_task_progress</i> function to report the task status of each task"
   ]
  },
  {
   "cell_type": "code",
   "execution_count": null,
   "metadata": {
    "pycharm": {
     "name": "#%%\n"
    }
   },
   "outputs": [],
   "source": [
    "def report_staging_in_task_progress(tasks):\n",
    "    report.info('\\n')\n",
    "    for task in tasks:\n",
    "        report.plain('  * %s: %s, exit: %3s, out: %s\\n'\n",
    "                % (task.uid, task.state[:4],\n",
    "                    task.exit_code, task.stdout.strip()[:35]))\n",
    "\n",
    "\n"
   ]
  },
  {
   "cell_type": "markdown",
   "metadata": {},
   "source": [
    "We create the <i>report_task_progress</i> function to report the task status of each task"
   ]
  },
  {
   "cell_type": "code",
   "execution_count": null,
   "metadata": {
    "pycharm": {
     "name": "#%%\n"
    }
   },
   "outputs": [],
   "source": [
    "def report_staging_out_task_progress(tasks):\n",
    "    counts = dict()\n",
    "    for task in tasks:\n",
    "        out_str = task.stdout.strip()[:35]\n",
    "        report.plain('  * %s: %s, exit: %3s, out: %s\\n'\n",
    "                % (task.uid, task.state[:4],\n",
    "                    task.exit_code, out_str))\n",
    "        if out_str not in counts:\n",
    "            counts[out_str] = 0\n",
    "        counts[out_str] += 1\n",
    "\n",
    "    report.info(\"\\n\")\n",
    "    for out_str in counts:\n",
    "        report.info(\"  * %-20s: %3d\\n\" % (out_str, counts[out_str]))\n",
    "    report.info(\"  * %-20s: %3d\\n\" % ('total', sum(counts.values())))\n"
   ]
  },
  {
   "cell_type": "markdown",
   "metadata": {},
   "source": [
    "## Sharing Task Input Data"
   ]
  },
  {
   "cell_type": "markdown",
   "metadata": {},
   "source": [
    "RP supports the concurrent execution of many tasks and, often, these tasks share some or all their input data, i.e., files. We have seen earlier that input staging can incur a significant runtime overhead. Such an overhead can be significantly reduced by avoiding redundant file staging operations.\n",
    "\n",
    "Each RP pilot manages a shared data space where to store tasks’ input files. First, RP can stage input files into the shared data space of a pilot. Second, that pilot can create symbolic links (symlinks) in the work directory of each task to any file in the shared data space. In this way, set of tasks can access the same file, avoiding costly staging and replicating operations."
   ]
  },
  {
   "cell_type": "markdown",
   "metadata": {},
   "source": [
    "Stage shared data from `pwd` to the pilot's shared data space"
   ]
  },
  {
   "cell_type": "markdown",
   "metadata": {},
   "source": [
    "```python\n",
    "pilot.stage_in({'source': 'file://%s/input.dat' % os.getcwd(),\n",
    "                'target': 'staging:///input.dat',\n",
    "                'action': rp.TRANSFER})\n",
    "```"
   ]
  },
  {
   "cell_type": "markdown",
   "metadata": {},
   "source": [
    "Create a symlink in the work directory of each task to the file <i>input.dat</i>"
   ]
  },
  {
   "cell_type": "markdown",
   "metadata": {},
   "source": [
    "```python\n",
    "for i in range(0, n):\n",
    "    cud = rp.TaskDescription()\n",
    "\n",
    "    cud.executable     = '/usr/bin/wc'\n",
    "    cud.arguments      = ['-c', 'input.dat']\n",
    "    cud.input_staging  = {'source': 'staging:///input.dat',\n",
    "                          'target': 'input.dat',\n",
    "                          'action': rp.LINK}\n",
    "```"
   ]
  },
  {
   "cell_type": "markdown",
   "metadata": {},
   "source": [
    "The rp.LINK staging action creates a symlink, avoiding the copy operation used by the rp.TRANSFER action.\n",
    "\n",
    "<b>Note:</b> Unlike other methods in RP, the pilot.stage_in method is synchronous, i.e., it only returns once the transfer is completed. This may change in a future version of RP.\n",
    "\n",
    "\n"
   ]
  },
  {
   "cell_type": "markdown",
   "metadata": {},
   "source": [
    "Create a workload of char-counting a simple file.  We first create the file right here, and stage it to the pilot 'shared_data' space. We then synchronously stage the data to the pilot\n"
   ]
  },
  {
   "cell_type": "code",
   "execution_count": null,
   "metadata": {
    "pycharm": {
     "name": "#%%\n"
    }
   },
   "outputs": [],
   "source": [
    "def create_and_stage_input_data(pilot):\n",
    "    os.system('hostname >  input.dat')\n",
    "    os.system('date     >> input.dat')\n",
    "\n",
    "    report.info('stage in shared data')\n",
    "    pilot.stage_in({'source': 'client:///input.dat',\n",
    "                    'target': 'pilot:///input.dat',\n",
    "                    'action': rp.TRANSFER})\n",
    "    report.ok('>>ok\\n')\n"
   ]
  },
  {
   "cell_type": "markdown",
   "metadata": {},
   "source": [
    "In the <i>submit_tasks</i> function, we first register the pilot in a TaskManager object.\n",
    "\n",
    "After this we initialize the number of tasks(n=128) and create a new Task description. We submit the previously created Task descriptions to the PilotManager. This will trigger the selected scheduler to start assigning Tasks to the Pilots.\n",
    "\n",
    "We will use ```tmgr.wait_tasks()```to wait for all tasks to reach a final (DONE, CANCELED or FAILED)."
   ]
  },
  {
   "cell_type": "code",
   "execution_count": null,
   "metadata": {
    "pycharm": {
     "name": "#%%\n"
    }
   },
   "outputs": [],
   "source": [
    "def submit_tasks(tmgr):\n",
    "    report.header('submit tasks')\n",
    "\n",
    "    n = 10\n",
    "    report.info('create %d task description(s)\\n\\t' % n)\n",
    "\n",
    "    tds  = list()\n",
    "    outs = list()\n",
    "    for i in range(0, n):\n",
    "        td = rp.TaskDescription()\n",
    "        td.executable     = '/bin/cat'\n",
    "        td.arguments      = ['input.dat']\n",
    "        td.stdout         = 'STDOUT'\n",
    "        td.input_staging  = [{'source': 'pilot:///input.dat',\n",
    "                              'target': 'task:///input.dat',\n",
    "                              'action': rp.LINK}]\n",
    "        td.output_staging = [{'source': 'task:///STDOUT',\n",
    "                              'target': 'pilot:///STDOUT.%06d' % i,\n",
    "                              'action': rp.COPY}]\n",
    "        outs.append('STDOUT.%06d' % i)\n",
    "        tds.append(td)\n",
    "        report.progress()\n",
    "    report.ok('>>ok\\n')\n",
    "\n",
    "    tasks = tmgr.submit_tasks(tds)\n",
    "    report.header('gather results')\n",
    "    tmgr.wait_tasks()\n",
    "    return tasks, outs\n"
   ]
  },
  {
   "cell_type": "markdown",
   "metadata": {},
   "source": [
    "We create the <i>report_task_progress</i> function to report the task status of each task"
   ]
  },
  {
   "cell_type": "code",
   "execution_count": null,
   "metadata": {
    "pycharm": {
     "name": "#%%\n"
    }
   },
   "outputs": [],
   "source": [
    "def report_task_progress(tasks, pilot,outs):\n",
    "    report.info('\\n')\n",
    "    for task in tasks:\n",
    "        report.plain('  * %s: %s, exit: %3s, out: %s\\n'\n",
    "                % (task.uid, task.state[:4],\n",
    "                    task.exit_code, task.stdout.strip()[:35]))\n",
    "\n",
    "    os.system('rm input.dat')\n",
    "\n",
    "    report.info('stage out shared data')\n",
    "    pilot.stage_out([{'source': 'pilot:///%s'  % fname,\n",
    "                      'target': 'client:///%s' % fname,\n",
    "                      'action': rp.TRANSFER} for fname in outs])\n",
    "    report.ok('>>ok\\n')\n"
   ]
  },
  {
   "cell_type": "markdown",
   "metadata": {},
   "source": [
    "We put all function calls inside a try except block.  Finally, always clean up the session no matter if we caught an exception or not. This will kill all the remaining pilots."
   ]
  },
  {
   "cell_type": "code",
   "execution_count": null,
   "metadata": {
    "pycharm": {
     "name": "#%%\n"
    }
   },
   "outputs": [],
   "source": [
    "try:\n",
    "    pmgr  = rp.PilotManager(session=session)\n",
    "    pilot = pmgr.submit_pilots(get_pilot_description(resource))\n",
    "\n",
    "    tmgr = rp.TaskManager(session=session)\n",
    "    tmgr.add_pilots(pilot)\n",
    "\n",
    "    tasks = submit_input_staging_tasks(tmgr)\n",
    "    report_staging_in_task_progress(tasks)\n",
    "except Exception as e:\n",
    "    report.error('caught Exception: %s\\n' % e)\n",
    "    raise\n",
    "\n",
    "except (KeyboardInterrupt, SystemExit):\n",
    "    report.warn('exit requested\\n')\n",
    "\n",
    "finally:\n",
    "    report.header('finalize')\n",
    "    session.close(cleanup=True)\n",
    "\n",
    "report.header()"
   ]
  }
 ],
 "metadata": {
  "kernelspec": {
   "display_name": "Python 3 (ipykernel)",
   "language": "python",
   "name": "python3"
  },
  "language_info": {
   "codemirror_mode": {
    "name": "ipython",
    "version": 3
   },
   "file_extension": ".py",
   "mimetype": "text/x-python",
   "name": "python",
   "nbconvert_exporter": "python",
   "pygments_lexer": "ipython3",
   "version": "3.8.0"
  },
  "pycharm": {
   "stem_cell": {
    "cell_type": "raw",
    "metadata": {
     "collapsed": false
    },
    "source": [
     "\n",
     "\n"
    ]
   }
  }
 },
 "nbformat": 4,
 "nbformat_minor": 1
}
