{
 "cells": [
  {
   "cell_type": "markdown",
   "id": "12827dbe",
   "metadata": {},
   "source": [
    "# y. Configuration"
   ]
  },
  {
   "cell_type": "markdown",
   "id": "a83ee7ec",
   "metadata": {},
   "source": [
    "RADICAL-Pilot (RP) uses a resource configuration process to set control and management parameters for the initialization of its components and to define resource entry points.\n",
    "\n",
    "It includes:\n",
    "- Resource description\n",
    "   - Batch system\n",
    "   - Provided launch methods (e.g., `srun`, `mpirun`, etc.)\n",
    "   - Environment setup (including package manager, working directory, etc.)\n",
    "   - Entry points: batch system URL, file system URL\n",
    "- Run description\n",
    "   - Project allocation name (i.e., `account`/`project`)\n",
    "   - Job queue name on a remote machine\n",
    "   - Amount of the resources for the run (e.g., `cores`, `gpus`, `memory`) for a particular period of time `runtime`\n",
    "\n",
    "All this information is provided for the `Pilot` by a `PilotDescription` object (the following examples will use a corresponding instance `pd`)."
   ]
  },
  {
   "cell_type": "markdown",
   "id": "85d7af85",
   "metadata": {},
   "source": [
    "## y.1. Resource description"
   ]
  },
  {
   "cell_type": "markdown",
   "id": "8822b7c0",
   "metadata": {},
   "source": [
    "Resource description (i.e., resource configuration) is represented by a record of a particular resource within a JSON file, which collects resources per facility and is named as `resource_<facility_name>.json`. \n",
    "\n",
    "Resource description **label** (`pd.resource`) is set as `<facility_name>.<resource_name>` and is referenced in `PilotDescription`\n",
    "\n",
    "- Storage location for a pre-defined resource descriptions ([GitHub repo](https://github.com/radical-cybertools/radical.pilot/tree/master/src/radical/pilot/configs))\n",
    "   - `<ve>/lib/python<py_ver>/site-packages/radical/pilot/configs/`\n",
    "- Storage location for user-defined resource descriptions\n",
    "   - `$HOME/.radical/pilot/configs/` (pre-set `$RADICAL_CONFIG_USER_DIR` will reset a base directory for user configs)\n",
    "   - **Will be merged with pre-defined resource descriptions, parameters with the same name will be overwritten by user-defined ones**"
   ]
  },
  {
   "cell_type": "markdown",
   "id": "2348e205",
   "metadata": {},
   "source": [
    "## y.2. Run description"
   ]
  },
  {
   "cell_type": "markdown",
   "id": "46cdec44",
   "metadata": {},
   "source": [
    "### y.2.1. Resource allocation parameters"
   ]
  },
  {
   "cell_type": "markdown",
   "id": "b9b4d2b3",
   "metadata": {},
   "source": [
    "Every run should state the project name (i.e., allocation account) and the amount of required resources explicitly, unless it is a local run without accessing any batch system.\n",
    "\n",
    "For example:"
   ]
  },
  {
   "cell_type": "code",
   "execution_count": null,
   "id": "3421ba98",
   "metadata": {},
   "outputs": [],
   "source": [
    "import radical.pilot as rp\n",
    "\n",
    "pd = rp.PilotDescription({\n",
    "    'resource': 'ornl.summit',  # resource description label\n",
    "    'project' : 'XYZ000',       # allocation account\n",
    "    'queue'   : 'debug',        # optional (default value is set in resource description)\n",
    "    'cores'   : 10,             # amount of CPU slots\n",
    "    'gpus'    : 6,              # amount of GPU slots\n",
    "    'runtime' : 15              # maximum runtime for a pilot (in minutes)\n",
    "})"
   ]
  },
  {
   "cell_type": "markdown",
   "id": "00819e7c",
   "metadata": {},
   "source": [
    "### y.2.2. Resource access schema"
   ]
  },
  {
   "cell_type": "markdown",
   "id": "f29409e9",
   "metadata": {},
   "source": [
    "Resource access schema (`pd.access_schema`) is provided as part of a resource description, and in case of more than one access schemas user can set a specific one in `PilotDescription`\n",
    "   - `local` - run RP application on the resource machine\n",
    "   - `ssh` - run RP application outside of the resource machine and use `ssh` protocol and corresponding SSH client to access the resource remotely\n",
    "      - It is required to set-up password-less ssh keys for the remote resource (for details please follow the [link](https://linuxize.com/post/how-to-setup-passwordless-ssh-login/))\n",
    "   - `gsissh` - run RP application outside of the resource machine and use GSI-enabled SSH to access the resource remotely\n",
    "      - It adds support for GSI authentication and credential forwarding, providing a single sign-on remote login and file transfer service (for details please follow the [link](http://grid.ncsa.illinois.edu/ssh/))\n",
    "      - For example, XSEDE resources require using `gsissh` instead of `ssh`. Once the gsissh and myproxy are successfully installed, one need to acquire a X509 certificate\n",
    "      - ```bash\n",
    "   \n",
    "      export MYPROXY_SERVER_PORT=7512\n",
    "      export MYPROXY_SERVER=myproxy.xsede.org\n",
    "      myproxy-logon -l <user_name> -T -b -t 1000\n",
    "      [Enter MyProxy pass phrase]\n",
    "      [you should receive a credential in /tmp/x509up_u1000]\n",
    "      gsissh -p 2222 login1.stampede2.tacc.utexas.edu\n",
    "      ```"
   ]
  }
 ],
 "metadata": {
  "kernelspec": {
   "display_name": "Python 3 (ipykernel)",
   "language": "python",
   "name": "python3"
  },
  "language_info": {
   "codemirror_mode": {
    "name": "ipython",
    "version": 3
   },
   "file_extension": ".py",
   "mimetype": "text/x-python",
   "name": "python",
   "nbconvert_exporter": "python",
   "pygments_lexer": "ipython3",
   "version": "3.7.10"
  }
 },
 "nbformat": 4,
 "nbformat_minor": 5
}
